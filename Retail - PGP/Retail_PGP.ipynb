{
  "nbformat": 4,
  "nbformat_minor": 0,
  "metadata": {
    "colab": {
      "name": "Retail - PGP",
      "provenance": [],
      "collapsed_sections": []
    },
    "kernelspec": {
      "name": "python3",
      "display_name": "Python 3"
    },
    "language_info": {
      "name": "python"
    }
  },
  "cells": [
    {
      "cell_type": "markdown",
      "metadata": {
        "id": "WMUi8oL2S4bG"
      },
      "source": [
        "**Problem Statement**\n",
        "\n",
        "It is a critical requirement for business to understand the value derived from a customer. RFM is a method used for analyzing customer value.\n",
        "\n",
        "Customer segmentation is the practice of segregating the customer base into groups of individuals based on some common characteristics such as age, gender, interests, and spending habits\n",
        "\n",
        "Perform customer segmentation using RFM analysis. The resulting segments can be ordered from most valuable (highest recency, frequency, and value) to least valuable (lowest recency, frequency, and value)."
      ]
    },
    {
      "cell_type": "markdown",
      "metadata": {
        "id": "Gxaw8BoeTLsu"
      },
      "source": [
        "**Dataset Description**\n",
        "\n",
        "This is a transnational data set which contains all the transactions that occurred between 01/12/2010 and 09/12/2011 for a UK-based and registered non-store online retail. The company mainly sells unique and all-occasion gifts.\n",
        "\n",
        "**Variables\tDescription**\n",
        "\n",
        "InvoiceNo\tInvoice number. Nominal, a six digit integral number uniquely assigned to each transaction. If this code starts with letter 'c', it indicates a cancellation\n",
        "\n",
        "StockCode\tProduct (item) code. Nominal, a five digit integral number uniquely assigned to each distinct product\n",
        "\n",
        "Description\tProduct (item) name. Nominal\n",
        "\n",
        "Quantity\tThe quantities of each product (item) per transaction. Numeric\n",
        "\n",
        "InvoiceDate\tInvoice Date and time. Numeric, the day and time when each transaction was generated\n",
        "\n",
        "UnitPrice\tUnit price. Numeric, product price per unit in sterling\n",
        "\n",
        "CustomerID\tCustomer number. Nominal, a six digit integral number uniquely assigned to each customer\n",
        "\n",
        "Country\tCountry name. Nominal, the name of the country where each customer resides"
      ]
    },
    {
      "cell_type": "markdown",
      "metadata": {
        "id": "CtN8NeRgTkTO"
      },
      "source": [
        "**Project Task: 1**\n",
        "\n",
        "**Data Cleaning:**\n",
        "\n",
        "1. Perform a preliminary data inspection and data cleaning.\n",
        "\n",
        "a. Check for missing data and formulate an apt strategy to treat them.\n",
        "\n",
        "b. Remove duplicate data records.\n",
        "\n",
        "c. Perform descriptive analytics on the given data.\n",
        "\n",
        "**Data Transformation:**\n",
        "\n",
        "2. Perform cohort analysis (a cohort is a group of subjects that share a defining characteristic). Observe how a cohort behaves across time and compare it to other cohorts.\n",
        "\n",
        "a. Create month cohorts and analyze active customers for each cohort.\n",
        "\n",
        "b. Analyze the retention rate of customers."
      ]
    },
    {
      "cell_type": "code",
      "metadata": {
        "id": "30RA46Y1SF6N"
      },
      "source": [
        "#importing required libraries\n",
        "\n",
        "import pandas as pd\n",
        "import numpy as np\n",
        "import matplotlib.pyplot as plt\n",
        "import seaborn as sns\n",
        "\n",
        "%matplotlib inline"
      ],
      "execution_count": null,
      "outputs": []
    },
    {
      "cell_type": "code",
      "metadata": {
        "id": "wcdOnGruV0uO"
      },
      "source": [
        "df = pd.read_excel('/content/Online Retail.xlsx')"
      ],
      "execution_count": null,
      "outputs": []
    },
    {
      "cell_type": "code",
      "metadata": {
        "id": "nSwtcLSMYmzr",
        "colab": {
          "base_uri": "https://localhost:8080/",
          "height": 204
        },
        "outputId": "0ac3003d-9b83-49bc-a5e9-226f6212b83e"
      },
      "source": [
        "df.head()"
      ],
      "execution_count": null,
      "outputs": [
        {
          "output_type": "execute_result",
          "data": {
            "text/html": [
              "<div>\n",
              "<style scoped>\n",
              "    .dataframe tbody tr th:only-of-type {\n",
              "        vertical-align: middle;\n",
              "    }\n",
              "\n",
              "    .dataframe tbody tr th {\n",
              "        vertical-align: top;\n",
              "    }\n",
              "\n",
              "    .dataframe thead th {\n",
              "        text-align: right;\n",
              "    }\n",
              "</style>\n",
              "<table border=\"1\" class=\"dataframe\">\n",
              "  <thead>\n",
              "    <tr style=\"text-align: right;\">\n",
              "      <th></th>\n",
              "      <th>InvoiceNo</th>\n",
              "      <th>StockCode</th>\n",
              "      <th>Description</th>\n",
              "      <th>Quantity</th>\n",
              "      <th>InvoiceDate</th>\n",
              "      <th>UnitPrice</th>\n",
              "      <th>CustomerID</th>\n",
              "      <th>Country</th>\n",
              "    </tr>\n",
              "  </thead>\n",
              "  <tbody>\n",
              "    <tr>\n",
              "      <th>0</th>\n",
              "      <td>536365</td>\n",
              "      <td>85123A</td>\n",
              "      <td>WHITE HANGING HEART T-LIGHT HOLDER</td>\n",
              "      <td>6</td>\n",
              "      <td>2010-12-01 08:26:00</td>\n",
              "      <td>2.55</td>\n",
              "      <td>17850.0</td>\n",
              "      <td>United Kingdom</td>\n",
              "    </tr>\n",
              "    <tr>\n",
              "      <th>1</th>\n",
              "      <td>536365</td>\n",
              "      <td>71053</td>\n",
              "      <td>WHITE METAL LANTERN</td>\n",
              "      <td>6</td>\n",
              "      <td>2010-12-01 08:26:00</td>\n",
              "      <td>3.39</td>\n",
              "      <td>17850.0</td>\n",
              "      <td>United Kingdom</td>\n",
              "    </tr>\n",
              "    <tr>\n",
              "      <th>2</th>\n",
              "      <td>536365</td>\n",
              "      <td>84406B</td>\n",
              "      <td>CREAM CUPID HEARTS COAT HANGER</td>\n",
              "      <td>8</td>\n",
              "      <td>2010-12-01 08:26:00</td>\n",
              "      <td>2.75</td>\n",
              "      <td>17850.0</td>\n",
              "      <td>United Kingdom</td>\n",
              "    </tr>\n",
              "    <tr>\n",
              "      <th>3</th>\n",
              "      <td>536365</td>\n",
              "      <td>84029G</td>\n",
              "      <td>KNITTED UNION FLAG HOT WATER BOTTLE</td>\n",
              "      <td>6</td>\n",
              "      <td>2010-12-01 08:26:00</td>\n",
              "      <td>3.39</td>\n",
              "      <td>17850.0</td>\n",
              "      <td>United Kingdom</td>\n",
              "    </tr>\n",
              "    <tr>\n",
              "      <th>4</th>\n",
              "      <td>536365</td>\n",
              "      <td>84029E</td>\n",
              "      <td>RED WOOLLY HOTTIE WHITE HEART.</td>\n",
              "      <td>6</td>\n",
              "      <td>2010-12-01 08:26:00</td>\n",
              "      <td>3.39</td>\n",
              "      <td>17850.0</td>\n",
              "      <td>United Kingdom</td>\n",
              "    </tr>\n",
              "  </tbody>\n",
              "</table>\n",
              "</div>"
            ],
            "text/plain": [
              "  InvoiceNo StockCode  ... CustomerID         Country\n",
              "0    536365    85123A  ...    17850.0  United Kingdom\n",
              "1    536365     71053  ...    17850.0  United Kingdom\n",
              "2    536365    84406B  ...    17850.0  United Kingdom\n",
              "3    536365    84029G  ...    17850.0  United Kingdom\n",
              "4    536365    84029E  ...    17850.0  United Kingdom\n",
              "\n",
              "[5 rows x 8 columns]"
            ]
          },
          "metadata": {
            "tags": []
          },
          "execution_count": 3
        }
      ]
    },
    {
      "cell_type": "code",
      "metadata": {
        "id": "-Z_aNaIaZD5R",
        "colab": {
          "base_uri": "https://localhost:8080/"
        },
        "outputId": "7422601d-ee6d-4724-c293-5039089a44d3"
      },
      "source": [
        "df.shape"
      ],
      "execution_count": null,
      "outputs": [
        {
          "output_type": "execute_result",
          "data": {
            "text/plain": [
              "(541909, 8)"
            ]
          },
          "metadata": {
            "tags": []
          },
          "execution_count": 4
        }
      ]
    },
    {
      "cell_type": "code",
      "metadata": {
        "id": "enkLspo4ZJLI",
        "colab": {
          "base_uri": "https://localhost:8080/"
        },
        "outputId": "95e3ac53-0514-4d19-e208-b3eb533d24b7"
      },
      "source": [
        "#missing value treatment\n",
        "\n",
        "df.isna().sum()"
      ],
      "execution_count": null,
      "outputs": [
        {
          "output_type": "execute_result",
          "data": {
            "text/plain": [
              "InvoiceNo           0\n",
              "StockCode           0\n",
              "Description      1454\n",
              "Quantity            0\n",
              "InvoiceDate         0\n",
              "UnitPrice           0\n",
              "CustomerID     135080\n",
              "Country             0\n",
              "dtype: int64"
            ]
          },
          "metadata": {
            "tags": []
          },
          "execution_count": 5
        }
      ]
    },
    {
      "cell_type": "markdown",
      "metadata": {
        "id": "3i43XV30dE1x"
      },
      "source": [
        "Missing description of product won't effect our analysis. We drop this column any way.\n"
      ]
    },
    {
      "cell_type": "code",
      "metadata": {
        "id": "ET0Qt8tQdbge",
        "colab": {
          "base_uri": "https://localhost:8080/"
        },
        "outputId": "cb1addef-a667-462f-ca64-ca22f6711aad"
      },
      "source": [
        "df['InvoiceNo'].nunique()"
      ],
      "execution_count": null,
      "outputs": [
        {
          "output_type": "execute_result",
          "data": {
            "text/plain": [
              "25900"
            ]
          },
          "metadata": {
            "tags": []
          },
          "execution_count": 6
        }
      ]
    },
    {
      "cell_type": "markdown",
      "metadata": {
        "id": "NKc6E1YYeAZB"
      },
      "source": [
        "There are Total 25900 unique invoice numbers"
      ]
    },
    {
      "cell_type": "code",
      "metadata": {
        "id": "gapyRtTydlBk",
        "colab": {
          "base_uri": "https://localhost:8080/"
        },
        "outputId": "bc3330b5-6b7a-457a-a605-f6751c29e125"
      },
      "source": [
        "df['CustomerID'].nunique()"
      ],
      "execution_count": null,
      "outputs": [
        {
          "output_type": "execute_result",
          "data": {
            "text/plain": [
              "4372"
            ]
          },
          "metadata": {
            "tags": []
          },
          "execution_count": 7
        }
      ]
    },
    {
      "cell_type": "markdown",
      "metadata": {
        "id": "OG2fN8jgeNnI"
      },
      "source": [
        "There are total 4372 customers consisting total 541909 orders "
      ]
    },
    {
      "cell_type": "code",
      "metadata": {
        "id": "QXcOsBeC50VU"
      },
      "source": [
        "second_df= df[df['CustomerID'].isnull()]"
      ],
      "execution_count": null,
      "outputs": []
    },
    {
      "cell_type": "code",
      "metadata": {
        "id": "QG_ptiRe6SjD",
        "colab": {
          "base_uri": "https://localhost:8080/",
          "height": 358
        },
        "outputId": "9f0ab494-e079-42ef-e8bf-1b0245c7dd68"
      },
      "source": [
        "second_df.head(10)"
      ],
      "execution_count": null,
      "outputs": [
        {
          "output_type": "execute_result",
          "data": {
            "text/html": [
              "<div>\n",
              "<style scoped>\n",
              "    .dataframe tbody tr th:only-of-type {\n",
              "        vertical-align: middle;\n",
              "    }\n",
              "\n",
              "    .dataframe tbody tr th {\n",
              "        vertical-align: top;\n",
              "    }\n",
              "\n",
              "    .dataframe thead th {\n",
              "        text-align: right;\n",
              "    }\n",
              "</style>\n",
              "<table border=\"1\" class=\"dataframe\">\n",
              "  <thead>\n",
              "    <tr style=\"text-align: right;\">\n",
              "      <th></th>\n",
              "      <th>InvoiceNo</th>\n",
              "      <th>StockCode</th>\n",
              "      <th>Description</th>\n",
              "      <th>Quantity</th>\n",
              "      <th>InvoiceDate</th>\n",
              "      <th>UnitPrice</th>\n",
              "      <th>CustomerID</th>\n",
              "      <th>Country</th>\n",
              "    </tr>\n",
              "  </thead>\n",
              "  <tbody>\n",
              "    <tr>\n",
              "      <th>622</th>\n",
              "      <td>536414</td>\n",
              "      <td>22139</td>\n",
              "      <td>NaN</td>\n",
              "      <td>56</td>\n",
              "      <td>2010-12-01 11:52:00</td>\n",
              "      <td>0.00</td>\n",
              "      <td>NaN</td>\n",
              "      <td>United Kingdom</td>\n",
              "    </tr>\n",
              "    <tr>\n",
              "      <th>1443</th>\n",
              "      <td>536544</td>\n",
              "      <td>21773</td>\n",
              "      <td>DECORATIVE ROSE BATHROOM BOTTLE</td>\n",
              "      <td>1</td>\n",
              "      <td>2010-12-01 14:32:00</td>\n",
              "      <td>2.51</td>\n",
              "      <td>NaN</td>\n",
              "      <td>United Kingdom</td>\n",
              "    </tr>\n",
              "    <tr>\n",
              "      <th>1444</th>\n",
              "      <td>536544</td>\n",
              "      <td>21774</td>\n",
              "      <td>DECORATIVE CATS BATHROOM BOTTLE</td>\n",
              "      <td>2</td>\n",
              "      <td>2010-12-01 14:32:00</td>\n",
              "      <td>2.51</td>\n",
              "      <td>NaN</td>\n",
              "      <td>United Kingdom</td>\n",
              "    </tr>\n",
              "    <tr>\n",
              "      <th>1445</th>\n",
              "      <td>536544</td>\n",
              "      <td>21786</td>\n",
              "      <td>POLKADOT RAIN HAT</td>\n",
              "      <td>4</td>\n",
              "      <td>2010-12-01 14:32:00</td>\n",
              "      <td>0.85</td>\n",
              "      <td>NaN</td>\n",
              "      <td>United Kingdom</td>\n",
              "    </tr>\n",
              "    <tr>\n",
              "      <th>1446</th>\n",
              "      <td>536544</td>\n",
              "      <td>21787</td>\n",
              "      <td>RAIN PONCHO RETROSPOT</td>\n",
              "      <td>2</td>\n",
              "      <td>2010-12-01 14:32:00</td>\n",
              "      <td>1.66</td>\n",
              "      <td>NaN</td>\n",
              "      <td>United Kingdom</td>\n",
              "    </tr>\n",
              "    <tr>\n",
              "      <th>1447</th>\n",
              "      <td>536544</td>\n",
              "      <td>21790</td>\n",
              "      <td>VINTAGE SNAP CARDS</td>\n",
              "      <td>9</td>\n",
              "      <td>2010-12-01 14:32:00</td>\n",
              "      <td>1.66</td>\n",
              "      <td>NaN</td>\n",
              "      <td>United Kingdom</td>\n",
              "    </tr>\n",
              "    <tr>\n",
              "      <th>1448</th>\n",
              "      <td>536544</td>\n",
              "      <td>21791</td>\n",
              "      <td>VINTAGE HEADS AND TAILS CARD GAME</td>\n",
              "      <td>2</td>\n",
              "      <td>2010-12-01 14:32:00</td>\n",
              "      <td>2.51</td>\n",
              "      <td>NaN</td>\n",
              "      <td>United Kingdom</td>\n",
              "    </tr>\n",
              "    <tr>\n",
              "      <th>1449</th>\n",
              "      <td>536544</td>\n",
              "      <td>21801</td>\n",
              "      <td>CHRISTMAS TREE DECORATION WITH BELL</td>\n",
              "      <td>10</td>\n",
              "      <td>2010-12-01 14:32:00</td>\n",
              "      <td>0.43</td>\n",
              "      <td>NaN</td>\n",
              "      <td>United Kingdom</td>\n",
              "    </tr>\n",
              "    <tr>\n",
              "      <th>1450</th>\n",
              "      <td>536544</td>\n",
              "      <td>21802</td>\n",
              "      <td>CHRISTMAS TREE HEART DECORATION</td>\n",
              "      <td>9</td>\n",
              "      <td>2010-12-01 14:32:00</td>\n",
              "      <td>0.43</td>\n",
              "      <td>NaN</td>\n",
              "      <td>United Kingdom</td>\n",
              "    </tr>\n",
              "    <tr>\n",
              "      <th>1451</th>\n",
              "      <td>536544</td>\n",
              "      <td>21803</td>\n",
              "      <td>CHRISTMAS TREE STAR DECORATION</td>\n",
              "      <td>11</td>\n",
              "      <td>2010-12-01 14:32:00</td>\n",
              "      <td>0.43</td>\n",
              "      <td>NaN</td>\n",
              "      <td>United Kingdom</td>\n",
              "    </tr>\n",
              "  </tbody>\n",
              "</table>\n",
              "</div>"
            ],
            "text/plain": [
              "     InvoiceNo StockCode  ... CustomerID         Country\n",
              "622     536414     22139  ...        NaN  United Kingdom\n",
              "1443    536544     21773  ...        NaN  United Kingdom\n",
              "1444    536544     21774  ...        NaN  United Kingdom\n",
              "1445    536544     21786  ...        NaN  United Kingdom\n",
              "1446    536544     21787  ...        NaN  United Kingdom\n",
              "1447    536544     21790  ...        NaN  United Kingdom\n",
              "1448    536544     21791  ...        NaN  United Kingdom\n",
              "1449    536544     21801  ...        NaN  United Kingdom\n",
              "1450    536544     21802  ...        NaN  United Kingdom\n",
              "1451    536544     21803  ...        NaN  United Kingdom\n",
              "\n",
              "[10 rows x 8 columns]"
            ]
          },
          "metadata": {
            "tags": []
          },
          "execution_count": 9
        }
      ]
    },
    {
      "cell_type": "code",
      "metadata": {
        "id": "av8kjZ166dLr",
        "colab": {
          "base_uri": "https://localhost:8080/"
        },
        "outputId": "d4173cd3-6c62-4753-e8f0-2aa188c8d0c0"
      },
      "source": [
        "second_df.shape"
      ],
      "execution_count": null,
      "outputs": [
        {
          "output_type": "execute_result",
          "data": {
            "text/plain": [
              "(135080, 8)"
            ]
          },
          "metadata": {
            "tags": []
          },
          "execution_count": 10
        }
      ]
    },
    {
      "cell_type": "code",
      "metadata": {
        "id": "UoWzFOs0_DFS",
        "colab": {
          "base_uri": "https://localhost:8080/",
          "height": 418
        },
        "outputId": "1b96b793-d7d0-4e14-95a9-777f8ff556e9"
      },
      "source": [
        "df2 = second_df.groupby(['InvoiceNo'])\n",
        "df2.head()"
      ],
      "execution_count": null,
      "outputs": [
        {
          "output_type": "execute_result",
          "data": {
            "text/html": [
              "<div>\n",
              "<style scoped>\n",
              "    .dataframe tbody tr th:only-of-type {\n",
              "        vertical-align: middle;\n",
              "    }\n",
              "\n",
              "    .dataframe tbody tr th {\n",
              "        vertical-align: top;\n",
              "    }\n",
              "\n",
              "    .dataframe thead th {\n",
              "        text-align: right;\n",
              "    }\n",
              "</style>\n",
              "<table border=\"1\" class=\"dataframe\">\n",
              "  <thead>\n",
              "    <tr style=\"text-align: right;\">\n",
              "      <th></th>\n",
              "      <th>InvoiceNo</th>\n",
              "      <th>StockCode</th>\n",
              "      <th>Description</th>\n",
              "      <th>Quantity</th>\n",
              "      <th>InvoiceDate</th>\n",
              "      <th>UnitPrice</th>\n",
              "      <th>CustomerID</th>\n",
              "      <th>Country</th>\n",
              "    </tr>\n",
              "  </thead>\n",
              "  <tbody>\n",
              "    <tr>\n",
              "      <th>622</th>\n",
              "      <td>536414</td>\n",
              "      <td>22139</td>\n",
              "      <td>NaN</td>\n",
              "      <td>56</td>\n",
              "      <td>2010-12-01 11:52:00</td>\n",
              "      <td>0.00</td>\n",
              "      <td>NaN</td>\n",
              "      <td>United Kingdom</td>\n",
              "    </tr>\n",
              "    <tr>\n",
              "      <th>1443</th>\n",
              "      <td>536544</td>\n",
              "      <td>21773</td>\n",
              "      <td>DECORATIVE ROSE BATHROOM BOTTLE</td>\n",
              "      <td>1</td>\n",
              "      <td>2010-12-01 14:32:00</td>\n",
              "      <td>2.51</td>\n",
              "      <td>NaN</td>\n",
              "      <td>United Kingdom</td>\n",
              "    </tr>\n",
              "    <tr>\n",
              "      <th>1444</th>\n",
              "      <td>536544</td>\n",
              "      <td>21774</td>\n",
              "      <td>DECORATIVE CATS BATHROOM BOTTLE</td>\n",
              "      <td>2</td>\n",
              "      <td>2010-12-01 14:32:00</td>\n",
              "      <td>2.51</td>\n",
              "      <td>NaN</td>\n",
              "      <td>United Kingdom</td>\n",
              "    </tr>\n",
              "    <tr>\n",
              "      <th>1445</th>\n",
              "      <td>536544</td>\n",
              "      <td>21786</td>\n",
              "      <td>POLKADOT RAIN HAT</td>\n",
              "      <td>4</td>\n",
              "      <td>2010-12-01 14:32:00</td>\n",
              "      <td>0.85</td>\n",
              "      <td>NaN</td>\n",
              "      <td>United Kingdom</td>\n",
              "    </tr>\n",
              "    <tr>\n",
              "      <th>1446</th>\n",
              "      <td>536544</td>\n",
              "      <td>21787</td>\n",
              "      <td>RAIN PONCHO RETROSPOT</td>\n",
              "      <td>2</td>\n",
              "      <td>2010-12-01 14:32:00</td>\n",
              "      <td>1.66</td>\n",
              "      <td>NaN</td>\n",
              "      <td>United Kingdom</td>\n",
              "    </tr>\n",
              "    <tr>\n",
              "      <th>...</th>\n",
              "      <td>...</td>\n",
              "      <td>...</td>\n",
              "      <td>...</td>\n",
              "      <td>...</td>\n",
              "      <td>...</td>\n",
              "      <td>...</td>\n",
              "      <td>...</td>\n",
              "      <td>...</td>\n",
              "    </tr>\n",
              "    <tr>\n",
              "      <th>541323</th>\n",
              "      <td>581498</td>\n",
              "      <td>15056bl</td>\n",
              "      <td>EDWARDIAN PARASOL BLACK</td>\n",
              "      <td>2</td>\n",
              "      <td>2011-12-09 10:26:00</td>\n",
              "      <td>12.46</td>\n",
              "      <td>NaN</td>\n",
              "      <td>United Kingdom</td>\n",
              "    </tr>\n",
              "    <tr>\n",
              "      <th>541324</th>\n",
              "      <td>581498</td>\n",
              "      <td>20669</td>\n",
              "      <td>RED HEART LUGGAGE TAG</td>\n",
              "      <td>3</td>\n",
              "      <td>2011-12-09 10:26:00</td>\n",
              "      <td>2.46</td>\n",
              "      <td>NaN</td>\n",
              "      <td>United Kingdom</td>\n",
              "    </tr>\n",
              "    <tr>\n",
              "      <th>541325</th>\n",
              "      <td>581498</td>\n",
              "      <td>20679</td>\n",
              "      <td>EDWARDIAN PARASOL RED</td>\n",
              "      <td>5</td>\n",
              "      <td>2011-12-09 10:26:00</td>\n",
              "      <td>12.46</td>\n",
              "      <td>NaN</td>\n",
              "      <td>United Kingdom</td>\n",
              "    </tr>\n",
              "    <tr>\n",
              "      <th>541326</th>\n",
              "      <td>581498</td>\n",
              "      <td>20712</td>\n",
              "      <td>JUMBO BAG WOODLAND ANIMALS</td>\n",
              "      <td>3</td>\n",
              "      <td>2011-12-09 10:26:00</td>\n",
              "      <td>4.13</td>\n",
              "      <td>NaN</td>\n",
              "      <td>United Kingdom</td>\n",
              "    </tr>\n",
              "    <tr>\n",
              "      <th>541327</th>\n",
              "      <td>581498</td>\n",
              "      <td>20713</td>\n",
              "      <td>JUMBO BAG OWLS</td>\n",
              "      <td>8</td>\n",
              "      <td>2011-12-09 10:26:00</td>\n",
              "      <td>4.13</td>\n",
              "      <td>NaN</td>\n",
              "      <td>United Kingdom</td>\n",
              "    </tr>\n",
              "  </tbody>\n",
              "</table>\n",
              "<p>8177 rows × 8 columns</p>\n",
              "</div>"
            ],
            "text/plain": [
              "       InvoiceNo StockCode  ... CustomerID         Country\n",
              "622       536414     22139  ...        NaN  United Kingdom\n",
              "1443      536544     21773  ...        NaN  United Kingdom\n",
              "1444      536544     21774  ...        NaN  United Kingdom\n",
              "1445      536544     21786  ...        NaN  United Kingdom\n",
              "1446      536544     21787  ...        NaN  United Kingdom\n",
              "...          ...       ...  ...        ...             ...\n",
              "541323    581498   15056bl  ...        NaN  United Kingdom\n",
              "541324    581498     20669  ...        NaN  United Kingdom\n",
              "541325    581498     20679  ...        NaN  United Kingdom\n",
              "541326    581498     20712  ...        NaN  United Kingdom\n",
              "541327    581498     20713  ...        NaN  United Kingdom\n",
              "\n",
              "[8177 rows x 8 columns]"
            ]
          },
          "metadata": {
            "tags": []
          },
          "execution_count": 11
        }
      ]
    },
    {
      "cell_type": "code",
      "metadata": {
        "id": "ugahJCLSA4LK",
        "colab": {
          "base_uri": "https://localhost:8080/"
        },
        "outputId": "c33c7fc9-cee6-4c9d-ba34-106bdc73ee22"
      },
      "source": [
        "second_df['InvoiceNo'].nunique()"
      ],
      "execution_count": null,
      "outputs": [
        {
          "output_type": "execute_result",
          "data": {
            "text/plain": [
              "3710"
            ]
          },
          "metadata": {
            "tags": []
          },
          "execution_count": 12
        }
      ]
    },
    {
      "cell_type": "markdown",
      "metadata": {
        "id": "80D8txi8Eh-O"
      },
      "source": [
        "As we see after our analysis, 3710 InvoiceNo don't have a customerID.\n",
        "and 3710 is comparitively very less the total InvoiceNo 25900.\n",
        "Data without customerID is no Use.\n",
        "so we drop this."
      ]
    },
    {
      "cell_type": "code",
      "metadata": {
        "id": "fV2AqhIzEUBY"
      },
      "source": [
        " df.dropna(subset=['CustomerID'], inplace=True )"
      ],
      "execution_count": null,
      "outputs": []
    },
    {
      "cell_type": "code",
      "metadata": {
        "id": "K-hx0EaNHoKC",
        "colab": {
          "base_uri": "https://localhost:8080/"
        },
        "outputId": "c221efd2-86ce-4d63-84e6-2bf32f0c5976"
      },
      "source": [
        "df.isnull().sum()"
      ],
      "execution_count": null,
      "outputs": [
        {
          "output_type": "execute_result",
          "data": {
            "text/plain": [
              "InvoiceNo      0\n",
              "StockCode      0\n",
              "Description    0\n",
              "Quantity       0\n",
              "InvoiceDate    0\n",
              "UnitPrice      0\n",
              "CustomerID     0\n",
              "Country        0\n",
              "dtype: int64"
            ]
          },
          "metadata": {
            "tags": []
          },
          "execution_count": 14
        }
      ]
    },
    {
      "cell_type": "code",
      "metadata": {
        "id": "ooxKdvpDHwc-",
        "colab": {
          "base_uri": "https://localhost:8080/"
        },
        "outputId": "df2328ad-2b89-4433-a932-5b3872b8c53c"
      },
      "source": [
        "#remove duplicates\n",
        "\n",
        "df.duplicated().sum()"
      ],
      "execution_count": null,
      "outputs": [
        {
          "output_type": "execute_result",
          "data": {
            "text/plain": [
              "5225"
            ]
          },
          "metadata": {
            "tags": []
          },
          "execution_count": 15
        }
      ]
    },
    {
      "cell_type": "code",
      "metadata": {
        "id": "rzyuONagH3o5"
      },
      "source": [
        "df = df.drop_duplicates()"
      ],
      "execution_count": null,
      "outputs": []
    },
    {
      "cell_type": "code",
      "metadata": {
        "id": "ClS7_Bi8IA0g",
        "colab": {
          "base_uri": "https://localhost:8080/"
        },
        "outputId": "5b46ecd5-2d4b-4cea-c76a-3da21ec6e296"
      },
      "source": [
        "df.duplicated().sum()"
      ],
      "execution_count": null,
      "outputs": [
        {
          "output_type": "execute_result",
          "data": {
            "text/plain": [
              "0"
            ]
          },
          "metadata": {
            "tags": []
          },
          "execution_count": 17
        }
      ]
    },
    {
      "cell_type": "code",
      "metadata": {
        "id": "FT9o9vFpIErV",
        "colab": {
          "base_uri": "https://localhost:8080/"
        },
        "outputId": "852ee2c8-b42c-44c8-86ac-01b8077e8555"
      },
      "source": [
        "#descriptive analysis\n",
        "\n",
        "df['Country'].nunique()"
      ],
      "execution_count": null,
      "outputs": [
        {
          "output_type": "execute_result",
          "data": {
            "text/plain": [
              "37"
            ]
          },
          "metadata": {
            "tags": []
          },
          "execution_count": 18
        }
      ]
    },
    {
      "cell_type": "markdown",
      "metadata": {
        "id": "39b7oS-5JLO9"
      },
      "source": [
        "There are total 37 countries"
      ]
    },
    {
      "cell_type": "code",
      "metadata": {
        "id": "aYFt7XqpJKO9"
      },
      "source": [
        "#customer country wise\n",
        "\n",
        "df3 = pd.DataFrame(df.groupby('Country')['CustomerID'].nunique())"
      ],
      "execution_count": null,
      "outputs": []
    },
    {
      "cell_type": "code",
      "metadata": {
        "id": "vPzcFerlJ_WI",
        "colab": {
          "base_uri": "https://localhost:8080/",
          "height": 1000
        },
        "outputId": "929f0e47-d899-426d-ca7d-c0ce8b2c6fc7"
      },
      "source": [
        "ccw = pd.DataFrame(df3).sort_values(by='CustomerID', ascending=False)\n",
        "ccw"
      ],
      "execution_count": null,
      "outputs": [
        {
          "output_type": "execute_result",
          "data": {
            "text/html": [
              "<div>\n",
              "<style scoped>\n",
              "    .dataframe tbody tr th:only-of-type {\n",
              "        vertical-align: middle;\n",
              "    }\n",
              "\n",
              "    .dataframe tbody tr th {\n",
              "        vertical-align: top;\n",
              "    }\n",
              "\n",
              "    .dataframe thead th {\n",
              "        text-align: right;\n",
              "    }\n",
              "</style>\n",
              "<table border=\"1\" class=\"dataframe\">\n",
              "  <thead>\n",
              "    <tr style=\"text-align: right;\">\n",
              "      <th></th>\n",
              "      <th>CustomerID</th>\n",
              "    </tr>\n",
              "    <tr>\n",
              "      <th>Country</th>\n",
              "      <th></th>\n",
              "    </tr>\n",
              "  </thead>\n",
              "  <tbody>\n",
              "    <tr>\n",
              "      <th>United Kingdom</th>\n",
              "      <td>3950</td>\n",
              "    </tr>\n",
              "    <tr>\n",
              "      <th>Germany</th>\n",
              "      <td>95</td>\n",
              "    </tr>\n",
              "    <tr>\n",
              "      <th>France</th>\n",
              "      <td>87</td>\n",
              "    </tr>\n",
              "    <tr>\n",
              "      <th>Spain</th>\n",
              "      <td>31</td>\n",
              "    </tr>\n",
              "    <tr>\n",
              "      <th>Belgium</th>\n",
              "      <td>25</td>\n",
              "    </tr>\n",
              "    <tr>\n",
              "      <th>Switzerland</th>\n",
              "      <td>21</td>\n",
              "    </tr>\n",
              "    <tr>\n",
              "      <th>Portugal</th>\n",
              "      <td>19</td>\n",
              "    </tr>\n",
              "    <tr>\n",
              "      <th>Italy</th>\n",
              "      <td>15</td>\n",
              "    </tr>\n",
              "    <tr>\n",
              "      <th>Finland</th>\n",
              "      <td>12</td>\n",
              "    </tr>\n",
              "    <tr>\n",
              "      <th>Austria</th>\n",
              "      <td>11</td>\n",
              "    </tr>\n",
              "    <tr>\n",
              "      <th>Norway</th>\n",
              "      <td>10</td>\n",
              "    </tr>\n",
              "    <tr>\n",
              "      <th>Netherlands</th>\n",
              "      <td>9</td>\n",
              "    </tr>\n",
              "    <tr>\n",
              "      <th>Australia</th>\n",
              "      <td>9</td>\n",
              "    </tr>\n",
              "    <tr>\n",
              "      <th>Denmark</th>\n",
              "      <td>9</td>\n",
              "    </tr>\n",
              "    <tr>\n",
              "      <th>Channel Islands</th>\n",
              "      <td>9</td>\n",
              "    </tr>\n",
              "    <tr>\n",
              "      <th>Cyprus</th>\n",
              "      <td>8</td>\n",
              "    </tr>\n",
              "    <tr>\n",
              "      <th>Sweden</th>\n",
              "      <td>8</td>\n",
              "    </tr>\n",
              "    <tr>\n",
              "      <th>Japan</th>\n",
              "      <td>8</td>\n",
              "    </tr>\n",
              "    <tr>\n",
              "      <th>Poland</th>\n",
              "      <td>6</td>\n",
              "    </tr>\n",
              "    <tr>\n",
              "      <th>USA</th>\n",
              "      <td>4</td>\n",
              "    </tr>\n",
              "    <tr>\n",
              "      <th>Canada</th>\n",
              "      <td>4</td>\n",
              "    </tr>\n",
              "    <tr>\n",
              "      <th>Unspecified</th>\n",
              "      <td>4</td>\n",
              "    </tr>\n",
              "    <tr>\n",
              "      <th>Israel</th>\n",
              "      <td>4</td>\n",
              "    </tr>\n",
              "    <tr>\n",
              "      <th>Greece</th>\n",
              "      <td>4</td>\n",
              "    </tr>\n",
              "    <tr>\n",
              "      <th>EIRE</th>\n",
              "      <td>3</td>\n",
              "    </tr>\n",
              "    <tr>\n",
              "      <th>Malta</th>\n",
              "      <td>2</td>\n",
              "    </tr>\n",
              "    <tr>\n",
              "      <th>United Arab Emirates</th>\n",
              "      <td>2</td>\n",
              "    </tr>\n",
              "    <tr>\n",
              "      <th>Bahrain</th>\n",
              "      <td>2</td>\n",
              "    </tr>\n",
              "    <tr>\n",
              "      <th>Czech Republic</th>\n",
              "      <td>1</td>\n",
              "    </tr>\n",
              "    <tr>\n",
              "      <th>Lithuania</th>\n",
              "      <td>1</td>\n",
              "    </tr>\n",
              "    <tr>\n",
              "      <th>Lebanon</th>\n",
              "      <td>1</td>\n",
              "    </tr>\n",
              "    <tr>\n",
              "      <th>RSA</th>\n",
              "      <td>1</td>\n",
              "    </tr>\n",
              "    <tr>\n",
              "      <th>Saudi Arabia</th>\n",
              "      <td>1</td>\n",
              "    </tr>\n",
              "    <tr>\n",
              "      <th>Singapore</th>\n",
              "      <td>1</td>\n",
              "    </tr>\n",
              "    <tr>\n",
              "      <th>Iceland</th>\n",
              "      <td>1</td>\n",
              "    </tr>\n",
              "    <tr>\n",
              "      <th>Brazil</th>\n",
              "      <td>1</td>\n",
              "    </tr>\n",
              "    <tr>\n",
              "      <th>European Community</th>\n",
              "      <td>1</td>\n",
              "    </tr>\n",
              "  </tbody>\n",
              "</table>\n",
              "</div>"
            ],
            "text/plain": [
              "                      CustomerID\n",
              "Country                         \n",
              "United Kingdom              3950\n",
              "Germany                       95\n",
              "France                        87\n",
              "Spain                         31\n",
              "Belgium                       25\n",
              "Switzerland                   21\n",
              "Portugal                      19\n",
              "Italy                         15\n",
              "Finland                       12\n",
              "Austria                       11\n",
              "Norway                        10\n",
              "Netherlands                    9\n",
              "Australia                      9\n",
              "Denmark                        9\n",
              "Channel Islands                9\n",
              "Cyprus                         8\n",
              "Sweden                         8\n",
              "Japan                          8\n",
              "Poland                         6\n",
              "USA                            4\n",
              "Canada                         4\n",
              "Unspecified                    4\n",
              "Israel                         4\n",
              "Greece                         4\n",
              "EIRE                           3\n",
              "Malta                          2\n",
              "United Arab Emirates           2\n",
              "Bahrain                        2\n",
              "Czech Republic                 1\n",
              "Lithuania                      1\n",
              "Lebanon                        1\n",
              "RSA                            1\n",
              "Saudi Arabia                   1\n",
              "Singapore                      1\n",
              "Iceland                        1\n",
              "Brazil                         1\n",
              "European Community             1"
            ]
          },
          "metadata": {
            "tags": []
          },
          "execution_count": 20
        }
      ]
    },
    {
      "cell_type": "code",
      "metadata": {
        "id": "6Uctn_lTKXYv",
        "colab": {
          "base_uri": "https://localhost:8080/"
        },
        "outputId": "c6536441-c1d5-49b5-be07-d2a8eff65ceb"
      },
      "source": [
        "#customer order more than once\n",
        "orders = df.groupby(['CustomerID'])['InvoiceNo'].nunique()\n",
        "order_perc = np.sum(orders>1)/df['CustomerID'].nunique()\n",
        "print(f'{100 * order_perc:.2f}% of customers ordered more than one item.') "
      ],
      "execution_count": null,
      "outputs": [
        {
          "output_type": "stream",
          "text": [
            "69.97% of customers ordered more than one item.\n"
          ],
          "name": "stdout"
        }
      ]
    },
    {
      "cell_type": "code",
      "metadata": {
        "id": "yJmOzPNPO-Di",
        "colab": {
          "base_uri": "https://localhost:8080/",
          "height": 351
        },
        "outputId": "a2ede811-57d7-4c0f-d327-2ce44346dc0c"
      },
      "source": [
        "#ploting number of orders\n",
        "ax = sns.distplot(orders, kde=False, hist=True)\n",
        "ax.set(title='Distribution of number of orders per customer', xlabel='# of orders', ylabel='# of customers');"
      ],
      "execution_count": null,
      "outputs": [
        {
          "output_type": "stream",
          "text": [
            "/usr/local/lib/python3.7/dist-packages/seaborn/distributions.py:2557: FutureWarning: `distplot` is a deprecated function and will be removed in a future version. Please adapt your code to use either `displot` (a figure-level function with similar flexibility) or `histplot` (an axes-level function for histograms).\n",
            "  warnings.warn(msg, FutureWarning)\n"
          ],
          "name": "stderr"
        },
        {
          "output_type": "display_data",
          "data": {
            "image/png": "[encoded data removed]",
            "text/plain": [
              "<Figure size 432x288 with 1 Axes>"
            ]
          },
          "metadata": {
            "tags": [],
            "needs_background": "light"
          }
        }
      ]
    },
    {
      "cell_type": "code",
      "metadata": {
        "id": "fHx4luYfQagD"
      },
      "source": [
        "import datetime as dt\n",
        "from operator import attrgetter"
      ],
      "execution_count": null,
      "outputs": []
    },
    {
      "cell_type": "code",
      "metadata": {
        "id": "_wQDM39MPPkP"
      },
      "source": [
        "#cohort analysis\n",
        "df['order_month']=df['InvoiceDate'].dt.to_period('M')"
      ],
      "execution_count": null,
      "outputs": []
    },
    {
      "cell_type": "code",
      "metadata": {
        "id": "spCJaIFETJNL"
      },
      "source": [
        "df['cohort']=df.groupby('CustomerID')['InvoiceDate'].transform('min').dt.to_period('M')"
      ],
      "execution_count": null,
      "outputs": []
    },
    {
      "cell_type": "code",
      "metadata": {
        "id": "4Ys0scrfTzSW",
        "colab": {
          "base_uri": "https://localhost:8080/",
          "height": 204
        },
        "outputId": "3d666373-86dc-4bdc-ce60-b26e152606d3"
      },
      "source": [
        "df.head()"
      ],
      "execution_count": null,
      "outputs": [
        {
          "output_type": "execute_result",
          "data": {
            "text/html": [
              "<div>\n",
              "<style scoped>\n",
              "    .dataframe tbody tr th:only-of-type {\n",
              "        vertical-align: middle;\n",
              "    }\n",
              "\n",
              "    .dataframe tbody tr th {\n",
              "        vertical-align: top;\n",
              "    }\n",
              "\n",
              "    .dataframe thead th {\n",
              "        text-align: right;\n",
              "    }\n",
              "</style>\n",
              "<table border=\"1\" class=\"dataframe\">\n",
              "  <thead>\n",
              "    <tr style=\"text-align: right;\">\n",
              "      <th></th>\n",
              "      <th>InvoiceNo</th>\n",
              "      <th>StockCode</th>\n",
              "      <th>Description</th>\n",
              "      <th>Quantity</th>\n",
              "      <th>InvoiceDate</th>\n",
              "      <th>UnitPrice</th>\n",
              "      <th>CustomerID</th>\n",
              "      <th>Country</th>\n",
              "      <th>order_month</th>\n",
              "      <th>cohort</th>\n",
              "    </tr>\n",
              "  </thead>\n",
              "  <tbody>\n",
              "    <tr>\n",
              "      <th>0</th>\n",
              "      <td>536365</td>\n",
              "      <td>85123A</td>\n",
              "      <td>WHITE HANGING HEART T-LIGHT HOLDER</td>\n",
              "      <td>6</td>\n",
              "      <td>2010-12-01 08:26:00</td>\n",
              "      <td>2.55</td>\n",
              "      <td>17850.0</td>\n",
              "      <td>United Kingdom</td>\n",
              "      <td>2010-12</td>\n",
              "      <td>2010-12</td>\n",
              "    </tr>\n",
              "    <tr>\n",
              "      <th>1</th>\n",
              "      <td>536365</td>\n",
              "      <td>71053</td>\n",
              "      <td>WHITE METAL LANTERN</td>\n",
              "      <td>6</td>\n",
              "      <td>2010-12-01 08:26:00</td>\n",
              "      <td>3.39</td>\n",
              "      <td>17850.0</td>\n",
              "      <td>United Kingdom</td>\n",
              "      <td>2010-12</td>\n",
              "      <td>2010-12</td>\n",
              "    </tr>\n",
              "    <tr>\n",
              "      <th>2</th>\n",
              "      <td>536365</td>\n",
              "      <td>84406B</td>\n",
              "      <td>CREAM CUPID HEARTS COAT HANGER</td>\n",
              "      <td>8</td>\n",
              "      <td>2010-12-01 08:26:00</td>\n",
              "      <td>2.75</td>\n",
              "      <td>17850.0</td>\n",
              "      <td>United Kingdom</td>\n",
              "      <td>2010-12</td>\n",
              "      <td>2010-12</td>\n",
              "    </tr>\n",
              "    <tr>\n",
              "      <th>3</th>\n",
              "      <td>536365</td>\n",
              "      <td>84029G</td>\n",
              "      <td>KNITTED UNION FLAG HOT WATER BOTTLE</td>\n",
              "      <td>6</td>\n",
              "      <td>2010-12-01 08:26:00</td>\n",
              "      <td>3.39</td>\n",
              "      <td>17850.0</td>\n",
              "      <td>United Kingdom</td>\n",
              "      <td>2010-12</td>\n",
              "      <td>2010-12</td>\n",
              "    </tr>\n",
              "    <tr>\n",
              "      <th>4</th>\n",
              "      <td>536365</td>\n",
              "      <td>84029E</td>\n",
              "      <td>RED WOOLLY HOTTIE WHITE HEART.</td>\n",
              "      <td>6</td>\n",
              "      <td>2010-12-01 08:26:00</td>\n",
              "      <td>3.39</td>\n",
              "      <td>17850.0</td>\n",
              "      <td>United Kingdom</td>\n",
              "      <td>2010-12</td>\n",
              "      <td>2010-12</td>\n",
              "    </tr>\n",
              "  </tbody>\n",
              "</table>\n",
              "</div>"
            ],
            "text/plain": [
              "  InvoiceNo StockCode  ... order_month   cohort\n",
              "0    536365    85123A  ...     2010-12  2010-12\n",
              "1    536365     71053  ...     2010-12  2010-12\n",
              "2    536365    84406B  ...     2010-12  2010-12\n",
              "3    536365    84029G  ...     2010-12  2010-12\n",
              "4    536365    84029E  ...     2010-12  2010-12\n",
              "\n",
              "[5 rows x 10 columns]"
            ]
          },
          "metadata": {
            "tags": []
          },
          "execution_count": 26
        }
      ]
    },
    {
      "cell_type": "code",
      "metadata": {
        "id": "HlRM7R-RUCGn"
      },
      "source": [
        "df_cohort=pd.DataFrame(df.groupby(['cohort','order_month']).agg(n_customers=('CustomerID', 'nunique')).reset_index(drop=False))"
      ],
      "execution_count": null,
      "outputs": []
    },
    {
      "cell_type": "code",
      "metadata": {
        "id": "EsPDpW7yVAMT",
        "colab": {
          "base_uri": "https://localhost:8080/",
          "height": 418
        },
        "outputId": "033cbbe8-1753-4b18-ce21-4d49b53db332"
      },
      "source": [
        "#active customers in each cohort\n",
        "df_cohort['period_number']= (df_cohort.order_month - df_cohort.cohort).apply(attrgetter('n'))\n",
        "df_cohort"
      ],
      "execution_count": null,
      "outputs": [
        {
          "output_type": "execute_result",
          "data": {
            "text/html": [
              "<div>\n",
              "<style scoped>\n",
              "    .dataframe tbody tr th:only-of-type {\n",
              "        vertical-align: middle;\n",
              "    }\n",
              "\n",
              "    .dataframe tbody tr th {\n",
              "        vertical-align: top;\n",
              "    }\n",
              "\n",
              "    .dataframe thead th {\n",
              "        text-align: right;\n",
              "    }\n",
              "</style>\n",
              "<table border=\"1\" class=\"dataframe\">\n",
              "  <thead>\n",
              "    <tr style=\"text-align: right;\">\n",
              "      <th></th>\n",
              "      <th>cohort</th>\n",
              "      <th>order_month</th>\n",
              "      <th>n_customers</th>\n",
              "      <th>period_number</th>\n",
              "    </tr>\n",
              "  </thead>\n",
              "  <tbody>\n",
              "    <tr>\n",
              "      <th>0</th>\n",
              "      <td>2010-12</td>\n",
              "      <td>2010-12</td>\n",
              "      <td>948</td>\n",
              "      <td>0</td>\n",
              "    </tr>\n",
              "    <tr>\n",
              "      <th>1</th>\n",
              "      <td>2010-12</td>\n",
              "      <td>2011-01</td>\n",
              "      <td>362</td>\n",
              "      <td>1</td>\n",
              "    </tr>\n",
              "    <tr>\n",
              "      <th>2</th>\n",
              "      <td>2010-12</td>\n",
              "      <td>2011-02</td>\n",
              "      <td>317</td>\n",
              "      <td>2</td>\n",
              "    </tr>\n",
              "    <tr>\n",
              "      <th>3</th>\n",
              "      <td>2010-12</td>\n",
              "      <td>2011-03</td>\n",
              "      <td>367</td>\n",
              "      <td>3</td>\n",
              "    </tr>\n",
              "    <tr>\n",
              "      <th>4</th>\n",
              "      <td>2010-12</td>\n",
              "      <td>2011-04</td>\n",
              "      <td>341</td>\n",
              "      <td>4</td>\n",
              "    </tr>\n",
              "    <tr>\n",
              "      <th>...</th>\n",
              "      <td>...</td>\n",
              "      <td>...</td>\n",
              "      <td>...</td>\n",
              "      <td>...</td>\n",
              "    </tr>\n",
              "    <tr>\n",
              "      <th>86</th>\n",
              "      <td>2011-10</td>\n",
              "      <td>2011-11</td>\n",
              "      <td>93</td>\n",
              "      <td>1</td>\n",
              "    </tr>\n",
              "    <tr>\n",
              "      <th>87</th>\n",
              "      <td>2011-10</td>\n",
              "      <td>2011-12</td>\n",
              "      <td>46</td>\n",
              "      <td>2</td>\n",
              "    </tr>\n",
              "    <tr>\n",
              "      <th>88</th>\n",
              "      <td>2011-11</td>\n",
              "      <td>2011-11</td>\n",
              "      <td>321</td>\n",
              "      <td>0</td>\n",
              "    </tr>\n",
              "    <tr>\n",
              "      <th>89</th>\n",
              "      <td>2011-11</td>\n",
              "      <td>2011-12</td>\n",
              "      <td>43</td>\n",
              "      <td>1</td>\n",
              "    </tr>\n",
              "    <tr>\n",
              "      <th>90</th>\n",
              "      <td>2011-12</td>\n",
              "      <td>2011-12</td>\n",
              "      <td>41</td>\n",
              "      <td>0</td>\n",
              "    </tr>\n",
              "  </tbody>\n",
              "</table>\n",
              "<p>91 rows × 4 columns</p>\n",
              "</div>"
            ],
            "text/plain": [
              "     cohort order_month  n_customers  period_number\n",
              "0   2010-12     2010-12          948              0\n",
              "1   2010-12     2011-01          362              1\n",
              "2   2010-12     2011-02          317              2\n",
              "3   2010-12     2011-03          367              3\n",
              "4   2010-12     2011-04          341              4\n",
              "..      ...         ...          ...            ...\n",
              "86  2011-10     2011-11           93              1\n",
              "87  2011-10     2011-12           46              2\n",
              "88  2011-11     2011-11          321              0\n",
              "89  2011-11     2011-12           43              1\n",
              "90  2011-12     2011-12           41              0\n",
              "\n",
              "[91 rows x 4 columns]"
            ]
          },
          "metadata": {
            "tags": []
          },
          "execution_count": 28
        }
      ]
    },
    {
      "cell_type": "code",
      "metadata": {
        "id": "EmqQzO7ZVrla",
        "colab": {
          "base_uri": "https://localhost:8080/",
          "height": 482
        },
        "outputId": "1ddf566b-c595-4163-e7d4-371df14456b9"
      },
      "source": [
        "cohort_pivot= df_cohort.pivot_table(index='cohort', values='n_customers', columns='period_number')\n",
        "cohort_pivot"
      ],
      "execution_count": null,
      "outputs": [
        {
          "output_type": "execute_result",
          "data": {
            "text/html": [
              "<div>\n",
              "<style scoped>\n",
              "    .dataframe tbody tr th:only-of-type {\n",
              "        vertical-align: middle;\n",
              "    }\n",
              "\n",
              "    .dataframe tbody tr th {\n",
              "        vertical-align: top;\n",
              "    }\n",
              "\n",
              "    .dataframe thead th {\n",
              "        text-align: right;\n",
              "    }\n",
              "</style>\n",
              "<table border=\"1\" class=\"dataframe\">\n",
              "  <thead>\n",
              "    <tr style=\"text-align: right;\">\n",
              "      <th>period_number</th>\n",
              "      <th>0</th>\n",
              "      <th>1</th>\n",
              "      <th>2</th>\n",
              "      <th>3</th>\n",
              "      <th>4</th>\n",
              "      <th>5</th>\n",
              "      <th>6</th>\n",
              "      <th>7</th>\n",
              "      <th>8</th>\n",
              "      <th>9</th>\n",
              "      <th>10</th>\n",
              "      <th>11</th>\n",
              "      <th>12</th>\n",
              "    </tr>\n",
              "    <tr>\n",
              "      <th>cohort</th>\n",
              "      <th></th>\n",
              "      <th></th>\n",
              "      <th></th>\n",
              "      <th></th>\n",
              "      <th></th>\n",
              "      <th></th>\n",
              "      <th></th>\n",
              "      <th></th>\n",
              "      <th></th>\n",
              "      <th></th>\n",
              "      <th></th>\n",
              "      <th></th>\n",
              "      <th></th>\n",
              "    </tr>\n",
              "  </thead>\n",
              "  <tbody>\n",
              "    <tr>\n",
              "      <th>2010-12</th>\n",
              "      <td>948.0</td>\n",
              "      <td>362.0</td>\n",
              "      <td>317.0</td>\n",
              "      <td>367.0</td>\n",
              "      <td>341.0</td>\n",
              "      <td>376.0</td>\n",
              "      <td>360.0</td>\n",
              "      <td>336.0</td>\n",
              "      <td>336.0</td>\n",
              "      <td>374.0</td>\n",
              "      <td>354.0</td>\n",
              "      <td>474.0</td>\n",
              "      <td>260.0</td>\n",
              "    </tr>\n",
              "    <tr>\n",
              "      <th>2011-01</th>\n",
              "      <td>421.0</td>\n",
              "      <td>101.0</td>\n",
              "      <td>119.0</td>\n",
              "      <td>102.0</td>\n",
              "      <td>138.0</td>\n",
              "      <td>126.0</td>\n",
              "      <td>110.0</td>\n",
              "      <td>108.0</td>\n",
              "      <td>131.0</td>\n",
              "      <td>146.0</td>\n",
              "      <td>155.0</td>\n",
              "      <td>63.0</td>\n",
              "      <td>NaN</td>\n",
              "    </tr>\n",
              "    <tr>\n",
              "      <th>2011-02</th>\n",
              "      <td>380.0</td>\n",
              "      <td>94.0</td>\n",
              "      <td>73.0</td>\n",
              "      <td>106.0</td>\n",
              "      <td>102.0</td>\n",
              "      <td>94.0</td>\n",
              "      <td>97.0</td>\n",
              "      <td>107.0</td>\n",
              "      <td>98.0</td>\n",
              "      <td>119.0</td>\n",
              "      <td>35.0</td>\n",
              "      <td>NaN</td>\n",
              "      <td>NaN</td>\n",
              "    </tr>\n",
              "    <tr>\n",
              "      <th>2011-03</th>\n",
              "      <td>440.0</td>\n",
              "      <td>84.0</td>\n",
              "      <td>112.0</td>\n",
              "      <td>96.0</td>\n",
              "      <td>102.0</td>\n",
              "      <td>78.0</td>\n",
              "      <td>116.0</td>\n",
              "      <td>105.0</td>\n",
              "      <td>127.0</td>\n",
              "      <td>39.0</td>\n",
              "      <td>NaN</td>\n",
              "      <td>NaN</td>\n",
              "      <td>NaN</td>\n",
              "    </tr>\n",
              "    <tr>\n",
              "      <th>2011-04</th>\n",
              "      <td>299.0</td>\n",
              "      <td>68.0</td>\n",
              "      <td>66.0</td>\n",
              "      <td>63.0</td>\n",
              "      <td>62.0</td>\n",
              "      <td>71.0</td>\n",
              "      <td>69.0</td>\n",
              "      <td>78.0</td>\n",
              "      <td>25.0</td>\n",
              "      <td>NaN</td>\n",
              "      <td>NaN</td>\n",
              "      <td>NaN</td>\n",
              "      <td>NaN</td>\n",
              "    </tr>\n",
              "    <tr>\n",
              "      <th>2011-05</th>\n",
              "      <td>279.0</td>\n",
              "      <td>66.0</td>\n",
              "      <td>48.0</td>\n",
              "      <td>48.0</td>\n",
              "      <td>60.0</td>\n",
              "      <td>68.0</td>\n",
              "      <td>74.0</td>\n",
              "      <td>29.0</td>\n",
              "      <td>NaN</td>\n",
              "      <td>NaN</td>\n",
              "      <td>NaN</td>\n",
              "      <td>NaN</td>\n",
              "      <td>NaN</td>\n",
              "    </tr>\n",
              "    <tr>\n",
              "      <th>2011-06</th>\n",
              "      <td>235.0</td>\n",
              "      <td>49.0</td>\n",
              "      <td>44.0</td>\n",
              "      <td>64.0</td>\n",
              "      <td>58.0</td>\n",
              "      <td>79.0</td>\n",
              "      <td>24.0</td>\n",
              "      <td>NaN</td>\n",
              "      <td>NaN</td>\n",
              "      <td>NaN</td>\n",
              "      <td>NaN</td>\n",
              "      <td>NaN</td>\n",
              "      <td>NaN</td>\n",
              "    </tr>\n",
              "    <tr>\n",
              "      <th>2011-07</th>\n",
              "      <td>191.0</td>\n",
              "      <td>40.0</td>\n",
              "      <td>39.0</td>\n",
              "      <td>44.0</td>\n",
              "      <td>52.0</td>\n",
              "      <td>22.0</td>\n",
              "      <td>NaN</td>\n",
              "      <td>NaN</td>\n",
              "      <td>NaN</td>\n",
              "      <td>NaN</td>\n",
              "      <td>NaN</td>\n",
              "      <td>NaN</td>\n",
              "      <td>NaN</td>\n",
              "    </tr>\n",
              "    <tr>\n",
              "      <th>2011-08</th>\n",
              "      <td>167.0</td>\n",
              "      <td>42.0</td>\n",
              "      <td>42.0</td>\n",
              "      <td>42.0</td>\n",
              "      <td>23.0</td>\n",
              "      <td>NaN</td>\n",
              "      <td>NaN</td>\n",
              "      <td>NaN</td>\n",
              "      <td>NaN</td>\n",
              "      <td>NaN</td>\n",
              "      <td>NaN</td>\n",
              "      <td>NaN</td>\n",
              "      <td>NaN</td>\n",
              "    </tr>\n",
              "    <tr>\n",
              "      <th>2011-09</th>\n",
              "      <td>298.0</td>\n",
              "      <td>89.0</td>\n",
              "      <td>97.0</td>\n",
              "      <td>36.0</td>\n",
              "      <td>NaN</td>\n",
              "      <td>NaN</td>\n",
              "      <td>NaN</td>\n",
              "      <td>NaN</td>\n",
              "      <td>NaN</td>\n",
              "      <td>NaN</td>\n",
              "      <td>NaN</td>\n",
              "      <td>NaN</td>\n",
              "      <td>NaN</td>\n",
              "    </tr>\n",
              "    <tr>\n",
              "      <th>2011-10</th>\n",
              "      <td>352.0</td>\n",
              "      <td>93.0</td>\n",
              "      <td>46.0</td>\n",
              "      <td>NaN</td>\n",
              "      <td>NaN</td>\n",
              "      <td>NaN</td>\n",
              "      <td>NaN</td>\n",
              "      <td>NaN</td>\n",
              "      <td>NaN</td>\n",
              "      <td>NaN</td>\n",
              "      <td>NaN</td>\n",
              "      <td>NaN</td>\n",
              "      <td>NaN</td>\n",
              "    </tr>\n",
              "    <tr>\n",
              "      <th>2011-11</th>\n",
              "      <td>321.0</td>\n",
              "      <td>43.0</td>\n",
              "      <td>NaN</td>\n",
              "      <td>NaN</td>\n",
              "      <td>NaN</td>\n",
              "      <td>NaN</td>\n",
              "      <td>NaN</td>\n",
              "      <td>NaN</td>\n",
              "      <td>NaN</td>\n",
              "      <td>NaN</td>\n",
              "      <td>NaN</td>\n",
              "      <td>NaN</td>\n",
              "      <td>NaN</td>\n",
              "    </tr>\n",
              "    <tr>\n",
              "      <th>2011-12</th>\n",
              "      <td>41.0</td>\n",
              "      <td>NaN</td>\n",
              "      <td>NaN</td>\n",
              "      <td>NaN</td>\n",
              "      <td>NaN</td>\n",
              "      <td>NaN</td>\n",
              "      <td>NaN</td>\n",
              "      <td>NaN</td>\n",
              "      <td>NaN</td>\n",
              "      <td>NaN</td>\n",
              "      <td>NaN</td>\n",
              "      <td>NaN</td>\n",
              "      <td>NaN</td>\n",
              "    </tr>\n",
              "  </tbody>\n",
              "</table>\n",
              "</div>"
            ],
            "text/plain": [
              "period_number     0      1      2      3   ...     9      10     11     12\n",
              "cohort                                     ...                            \n",
              "2010-12        948.0  362.0  317.0  367.0  ...  374.0  354.0  474.0  260.0\n",
              "2011-01        421.0  101.0  119.0  102.0  ...  146.0  155.0   63.0    NaN\n",
              "2011-02        380.0   94.0   73.0  106.0  ...  119.0   35.0    NaN    NaN\n",
              "2011-03        440.0   84.0  112.0   96.0  ...   39.0    NaN    NaN    NaN\n",
              "2011-04        299.0   68.0   66.0   63.0  ...    NaN    NaN    NaN    NaN\n",
              "2011-05        279.0   66.0   48.0   48.0  ...    NaN    NaN    NaN    NaN\n",
              "2011-06        235.0   49.0   44.0   64.0  ...    NaN    NaN    NaN    NaN\n",
              "2011-07        191.0   40.0   39.0   44.0  ...    NaN    NaN    NaN    NaN\n",
              "2011-08        167.0   42.0   42.0   42.0  ...    NaN    NaN    NaN    NaN\n",
              "2011-09        298.0   89.0   97.0   36.0  ...    NaN    NaN    NaN    NaN\n",
              "2011-10        352.0   93.0   46.0    NaN  ...    NaN    NaN    NaN    NaN\n",
              "2011-11        321.0   43.0    NaN    NaN  ...    NaN    NaN    NaN    NaN\n",
              "2011-12         41.0    NaN    NaN    NaN  ...    NaN    NaN    NaN    NaN\n",
              "\n",
              "[13 rows x 13 columns]"
            ]
          },
          "metadata": {
            "tags": []
          },
          "execution_count": 29
        }
      ]
    },
    {
      "cell_type": "code",
      "metadata": {
        "id": "7UQGokRTWTA_"
      },
      "source": [
        "#retention rate of customers\n",
        "cohort_size = cohort_pivot.iloc[:,0]\n",
        "retention_matrix = cohort_pivot.divide(cohort_size, axis=0)"
      ],
      "execution_count": null,
      "outputs": []
    },
    {
      "cell_type": "code",
      "metadata": {
        "id": "tErQboABXo3C",
        "colab": {
          "base_uri": "https://localhost:8080/",
          "height": 482
        },
        "outputId": "6e3e7784-f559-40d6-81c2-53c527a47e8f"
      },
      "source": [
        "retention_matrix"
      ],
      "execution_count": null,
      "outputs": [
        {
          "output_type": "execute_result",
          "data": {
            "text/html": [
              "<div>\n",
              "<style scoped>\n",
              "    .dataframe tbody tr th:only-of-type {\n",
              "        vertical-align: middle;\n",
              "    }\n",
              "\n",
              "    .dataframe tbody tr th {\n",
              "        vertical-align: top;\n",
              "    }\n",
              "\n",
              "    .dataframe thead th {\n",
              "        text-align: right;\n",
              "    }\n",
              "</style>\n",
              "<table border=\"1\" class=\"dataframe\">\n",
              "  <thead>\n",
              "    <tr style=\"text-align: right;\">\n",
              "      <th>period_number</th>\n",
              "      <th>0</th>\n",
              "      <th>1</th>\n",
              "      <th>2</th>\n",
              "      <th>3</th>\n",
              "      <th>4</th>\n",
              "      <th>5</th>\n",
              "      <th>6</th>\n",
              "      <th>7</th>\n",
              "      <th>8</th>\n",
              "      <th>9</th>\n",
              "      <th>10</th>\n",
              "      <th>11</th>\n",
              "      <th>12</th>\n",
              "    </tr>\n",
              "    <tr>\n",
              "      <th>cohort</th>\n",
              "      <th></th>\n",
              "      <th></th>\n",
              "      <th></th>\n",
              "      <th></th>\n",
              "      <th></th>\n",
              "      <th></th>\n",
              "      <th></th>\n",
              "      <th></th>\n",
              "      <th></th>\n",
              "      <th></th>\n",
              "      <th></th>\n",
              "      <th></th>\n",
              "      <th></th>\n",
              "    </tr>\n",
              "  </thead>\n",
              "  <tbody>\n",
              "    <tr>\n",
              "      <th>2010-12</th>\n",
              "      <td>1.0</td>\n",
              "      <td>0.381857</td>\n",
              "      <td>0.334388</td>\n",
              "      <td>0.387131</td>\n",
              "      <td>0.359705</td>\n",
              "      <td>0.396624</td>\n",
              "      <td>0.379747</td>\n",
              "      <td>0.354430</td>\n",
              "      <td>0.354430</td>\n",
              "      <td>0.394515</td>\n",
              "      <td>0.373418</td>\n",
              "      <td>0.500000</td>\n",
              "      <td>0.274262</td>\n",
              "    </tr>\n",
              "    <tr>\n",
              "      <th>2011-01</th>\n",
              "      <td>1.0</td>\n",
              "      <td>0.239905</td>\n",
              "      <td>0.282660</td>\n",
              "      <td>0.242280</td>\n",
              "      <td>0.327791</td>\n",
              "      <td>0.299287</td>\n",
              "      <td>0.261283</td>\n",
              "      <td>0.256532</td>\n",
              "      <td>0.311164</td>\n",
              "      <td>0.346793</td>\n",
              "      <td>0.368171</td>\n",
              "      <td>0.149644</td>\n",
              "      <td>NaN</td>\n",
              "    </tr>\n",
              "    <tr>\n",
              "      <th>2011-02</th>\n",
              "      <td>1.0</td>\n",
              "      <td>0.247368</td>\n",
              "      <td>0.192105</td>\n",
              "      <td>0.278947</td>\n",
              "      <td>0.268421</td>\n",
              "      <td>0.247368</td>\n",
              "      <td>0.255263</td>\n",
              "      <td>0.281579</td>\n",
              "      <td>0.257895</td>\n",
              "      <td>0.313158</td>\n",
              "      <td>0.092105</td>\n",
              "      <td>NaN</td>\n",
              "      <td>NaN</td>\n",
              "    </tr>\n",
              "    <tr>\n",
              "      <th>2011-03</th>\n",
              "      <td>1.0</td>\n",
              "      <td>0.190909</td>\n",
              "      <td>0.254545</td>\n",
              "      <td>0.218182</td>\n",
              "      <td>0.231818</td>\n",
              "      <td>0.177273</td>\n",
              "      <td>0.263636</td>\n",
              "      <td>0.238636</td>\n",
              "      <td>0.288636</td>\n",
              "      <td>0.088636</td>\n",
              "      <td>NaN</td>\n",
              "      <td>NaN</td>\n",
              "      <td>NaN</td>\n",
              "    </tr>\n",
              "    <tr>\n",
              "      <th>2011-04</th>\n",
              "      <td>1.0</td>\n",
              "      <td>0.227425</td>\n",
              "      <td>0.220736</td>\n",
              "      <td>0.210702</td>\n",
              "      <td>0.207358</td>\n",
              "      <td>0.237458</td>\n",
              "      <td>0.230769</td>\n",
              "      <td>0.260870</td>\n",
              "      <td>0.083612</td>\n",
              "      <td>NaN</td>\n",
              "      <td>NaN</td>\n",
              "      <td>NaN</td>\n",
              "      <td>NaN</td>\n",
              "    </tr>\n",
              "    <tr>\n",
              "      <th>2011-05</th>\n",
              "      <td>1.0</td>\n",
              "      <td>0.236559</td>\n",
              "      <td>0.172043</td>\n",
              "      <td>0.172043</td>\n",
              "      <td>0.215054</td>\n",
              "      <td>0.243728</td>\n",
              "      <td>0.265233</td>\n",
              "      <td>0.103943</td>\n",
              "      <td>NaN</td>\n",
              "      <td>NaN</td>\n",
              "      <td>NaN</td>\n",
              "      <td>NaN</td>\n",
              "      <td>NaN</td>\n",
              "    </tr>\n",
              "    <tr>\n",
              "      <th>2011-06</th>\n",
              "      <td>1.0</td>\n",
              "      <td>0.208511</td>\n",
              "      <td>0.187234</td>\n",
              "      <td>0.272340</td>\n",
              "      <td>0.246809</td>\n",
              "      <td>0.336170</td>\n",
              "      <td>0.102128</td>\n",
              "      <td>NaN</td>\n",
              "      <td>NaN</td>\n",
              "      <td>NaN</td>\n",
              "      <td>NaN</td>\n",
              "      <td>NaN</td>\n",
              "      <td>NaN</td>\n",
              "    </tr>\n",
              "    <tr>\n",
              "      <th>2011-07</th>\n",
              "      <td>1.0</td>\n",
              "      <td>0.209424</td>\n",
              "      <td>0.204188</td>\n",
              "      <td>0.230366</td>\n",
              "      <td>0.272251</td>\n",
              "      <td>0.115183</td>\n",
              "      <td>NaN</td>\n",
              "      <td>NaN</td>\n",
              "      <td>NaN</td>\n",
              "      <td>NaN</td>\n",
              "      <td>NaN</td>\n",
              "      <td>NaN</td>\n",
              "      <td>NaN</td>\n",
              "    </tr>\n",
              "    <tr>\n",
              "      <th>2011-08</th>\n",
              "      <td>1.0</td>\n",
              "      <td>0.251497</td>\n",
              "      <td>0.251497</td>\n",
              "      <td>0.251497</td>\n",
              "      <td>0.137725</td>\n",
              "      <td>NaN</td>\n",
              "      <td>NaN</td>\n",
              "      <td>NaN</td>\n",
              "      <td>NaN</td>\n",
              "      <td>NaN</td>\n",
              "      <td>NaN</td>\n",
              "      <td>NaN</td>\n",
              "      <td>NaN</td>\n",
              "    </tr>\n",
              "    <tr>\n",
              "      <th>2011-09</th>\n",
              "      <td>1.0</td>\n",
              "      <td>0.298658</td>\n",
              "      <td>0.325503</td>\n",
              "      <td>0.120805</td>\n",
              "      <td>NaN</td>\n",
              "      <td>NaN</td>\n",
              "      <td>NaN</td>\n",
              "      <td>NaN</td>\n",
              "      <td>NaN</td>\n",
              "      <td>NaN</td>\n",
              "      <td>NaN</td>\n",
              "      <td>NaN</td>\n",
              "      <td>NaN</td>\n",
              "    </tr>\n",
              "    <tr>\n",
              "      <th>2011-10</th>\n",
              "      <td>1.0</td>\n",
              "      <td>0.264205</td>\n",
              "      <td>0.130682</td>\n",
              "      <td>NaN</td>\n",
              "      <td>NaN</td>\n",
              "      <td>NaN</td>\n",
              "      <td>NaN</td>\n",
              "      <td>NaN</td>\n",
              "      <td>NaN</td>\n",
              "      <td>NaN</td>\n",
              "      <td>NaN</td>\n",
              "      <td>NaN</td>\n",
              "      <td>NaN</td>\n",
              "    </tr>\n",
              "    <tr>\n",
              "      <th>2011-11</th>\n",
              "      <td>1.0</td>\n",
              "      <td>0.133956</td>\n",
              "      <td>NaN</td>\n",
              "      <td>NaN</td>\n",
              "      <td>NaN</td>\n",
              "      <td>NaN</td>\n",
              "      <td>NaN</td>\n",
              "      <td>NaN</td>\n",
              "      <td>NaN</td>\n",
              "      <td>NaN</td>\n",
              "      <td>NaN</td>\n",
              "      <td>NaN</td>\n",
              "      <td>NaN</td>\n",
              "    </tr>\n",
              "    <tr>\n",
              "      <th>2011-12</th>\n",
              "      <td>1.0</td>\n",
              "      <td>NaN</td>\n",
              "      <td>NaN</td>\n",
              "      <td>NaN</td>\n",
              "      <td>NaN</td>\n",
              "      <td>NaN</td>\n",
              "      <td>NaN</td>\n",
              "      <td>NaN</td>\n",
              "      <td>NaN</td>\n",
              "      <td>NaN</td>\n",
              "      <td>NaN</td>\n",
              "      <td>NaN</td>\n",
              "      <td>NaN</td>\n",
              "    </tr>\n",
              "  </tbody>\n",
              "</table>\n",
              "</div>"
            ],
            "text/plain": [
              "period_number   0         1         2   ...        10        11        12\n",
              "cohort                                  ...                              \n",
              "2010-12        1.0  0.381857  0.334388  ...  0.373418  0.500000  0.274262\n",
              "2011-01        1.0  0.239905  0.282660  ...  0.368171  0.149644       NaN\n",
              "2011-02        1.0  0.247368  0.192105  ...  0.092105       NaN       NaN\n",
              "2011-03        1.0  0.190909  0.254545  ...       NaN       NaN       NaN\n",
              "2011-04        1.0  0.227425  0.220736  ...       NaN       NaN       NaN\n",
              "2011-05        1.0  0.236559  0.172043  ...       NaN       NaN       NaN\n",
              "2011-06        1.0  0.208511  0.187234  ...       NaN       NaN       NaN\n",
              "2011-07        1.0  0.209424  0.204188  ...       NaN       NaN       NaN\n",
              "2011-08        1.0  0.251497  0.251497  ...       NaN       NaN       NaN\n",
              "2011-09        1.0  0.298658  0.325503  ...       NaN       NaN       NaN\n",
              "2011-10        1.0  0.264205  0.130682  ...       NaN       NaN       NaN\n",
              "2011-11        1.0  0.133956       NaN  ...       NaN       NaN       NaN\n",
              "2011-12        1.0       NaN       NaN  ...       NaN       NaN       NaN\n",
              "\n",
              "[13 rows x 13 columns]"
            ]
          },
          "metadata": {
            "tags": []
          },
          "execution_count": 31
        }
      ]
    },
    {
      "cell_type": "code",
      "metadata": {
        "id": "eUTo0bzYXqJr"
      },
      "source": [
        "import matplotlib.colors as mcolors"
      ],
      "execution_count": null,
      "outputs": []
    },
    {
      "cell_type": "code",
      "metadata": {
        "id": "uTC3Og75bmAj",
        "colab": {
          "base_uri": "https://localhost:8080/",
          "height": 585
        },
        "outputId": "ada90c3d-d030-4975-93d1-ffbae923d924"
      },
      "source": [
        "with sns.axes_style('white'):\n",
        "  fig, ax=plt.subplots(1,2,figsize=(12,8), sharey=True, gridspec_kw={'width_ratios':[1,11]})\n",
        "\n",
        "\n",
        "  #retention matrix\n",
        "  sns.heatmap(retention_matrix,\n",
        "              mask=retention_matrix.isnull(),\n",
        "              annot=True,\n",
        "              fmt='.0%',\n",
        "              cmap='RdYlGn',\n",
        "              ax=ax[1])\n",
        "  ax[1].set_title('Monthly Cohorts: User Retention', fontsize=16)\n",
        "  ax[1].set(xlabel='# of periods', ylabel='')\n",
        "\n",
        "  #cohort size\n",
        "  cohort_size_df = pd.DataFrame(cohort_size).rename(columns={0:'cohort_size'})\n",
        "  white_cmap = mcolors.ListedColormap(['white'])\n",
        "  sns.heatmap(cohort_size_df,\n",
        "              annot=True,\n",
        "              cbar=False,\n",
        "              fmt='g',\n",
        "              cmap=white_cmap,\n",
        "              ax=ax[0])\n",
        "  \n",
        "  fig.tight_layout()"
      ],
      "execution_count": null,
      "outputs": [
        {
          "output_type": "display_data",
          "data": {
            "image/png": "[encoded data removed]",
            "text/plain": [
              "<Figure size 864x576 with 3 Axes>"
            ]
          },
          "metadata": {
            "tags": []
          }
        }
      ]
    },
    {
      "cell_type": "markdown",
      "metadata": {
        "id": "a-D96skOeQ3b"
      },
      "source": [
        "**Project Task:2**\n",
        "\n",
        "**Data Modeling :**\n",
        "\n",
        "1. Build a RFM (Recency Frequency Monetary) model. Recency means the number of days since a customer made the last purchase. Frequency is the number of purchase in a given period. It could be 3 months, 6 months or 1 year. Monetary is the total amount of money a customer spent in that given period. Therefore, big spenders will be differentiated among other customers such as MVP (Minimum Viable Product) or VIP.\n",
        "\n",
        "2. Calculate RFM metrics.\n",
        "\n",
        "3. Build RFM Segments. Give recency, frequency, and monetary scores individually by dividing them into quartiles.\n",
        "\n",
        "b1. Combine three ratings to get a RFM segment (as strings).\n",
        "\n",
        "b2. Get the RFM score by adding up the three ratings.\n",
        "\n",
        "b3. Analyze the RFM segments by summarizing them and comment on the findings.\n",
        "\n",
        "Note: Rate “recency\" for customer who has been active more recently higher than the less recent customer, because each company wants its customers to be recent.\n",
        "\n",
        "Note: Rate “frequency\" and “monetary\" higher, because the company wants the customer to visit more often and spend more money"
      ]
    },
    {
      "cell_type": "markdown",
      "metadata": {
        "id": "I-ri4oucA6YY"
      },
      "source": [
        "**Methodology**\n",
        "\n",
        "To get the RFM score of a customer, we need to first calculate the R, F and M scores on a scale from 1 (worst) to 5 (best).\n",
        "\n",
        "1. calculate Recency = number of days since last purchase\n",
        "\n",
        "2. calculate Freqency = number of purchases during the studied period (usually one year)\n",
        "\n",
        "3. calculate Monetary = total amount of purchases made during the studied period\n",
        "\n",
        "4. find quintiles for each of these dimensions\n",
        "\n",
        "5. give a grade to each dimension depending in which quintiles it stands\n",
        "\n",
        "6. combine R, F and M scores to get the RFM score\n",
        "\n",
        "7. map RF scores to segments"
      ]
    },
    {
      "cell_type": "code",
      "metadata": {
        "id": "gezKlOyqd8hV"
      },
      "source": [
        "df['Price'] = df['Quantity']*df['UnitPrice']"
      ],
      "execution_count": null,
      "outputs": []
    },
    {
      "cell_type": "code",
      "metadata": {
        "id": "fJYkC0y-Hjtp",
        "colab": {
          "base_uri": "https://localhost:8080/",
          "height": 204
        },
        "outputId": "b8097ce1-8f54-43ec-fde7-7f8335b3c2e3"
      },
      "source": [
        "#combine InvoiceNo\n",
        "\n",
        "new_df = df.groupby(['InvoiceNo', 'InvoiceDate', 'CustomerID']).agg({'Price': lambda x : x.sum()}).reset_index()\n",
        "new_df.head()"
      ],
      "execution_count": null,
      "outputs": [
        {
          "output_type": "execute_result",
          "data": {
            "text/html": [
              "<div>\n",
              "<style scoped>\n",
              "    .dataframe tbody tr th:only-of-type {\n",
              "        vertical-align: middle;\n",
              "    }\n",
              "\n",
              "    .dataframe tbody tr th {\n",
              "        vertical-align: top;\n",
              "    }\n",
              "\n",
              "    .dataframe thead th {\n",
              "        text-align: right;\n",
              "    }\n",
              "</style>\n",
              "<table border=\"1\" class=\"dataframe\">\n",
              "  <thead>\n",
              "    <tr style=\"text-align: right;\">\n",
              "      <th></th>\n",
              "      <th>InvoiceNo</th>\n",
              "      <th>InvoiceDate</th>\n",
              "      <th>CustomerID</th>\n",
              "      <th>Price</th>\n",
              "    </tr>\n",
              "  </thead>\n",
              "  <tbody>\n",
              "    <tr>\n",
              "      <th>0</th>\n",
              "      <td>536365</td>\n",
              "      <td>2010-12-01 08:26:00</td>\n",
              "      <td>17850.0</td>\n",
              "      <td>139.12</td>\n",
              "    </tr>\n",
              "    <tr>\n",
              "      <th>1</th>\n",
              "      <td>536366</td>\n",
              "      <td>2010-12-01 08:28:00</td>\n",
              "      <td>17850.0</td>\n",
              "      <td>22.20</td>\n",
              "    </tr>\n",
              "    <tr>\n",
              "      <th>2</th>\n",
              "      <td>536367</td>\n",
              "      <td>2010-12-01 08:34:00</td>\n",
              "      <td>13047.0</td>\n",
              "      <td>278.73</td>\n",
              "    </tr>\n",
              "    <tr>\n",
              "      <th>3</th>\n",
              "      <td>536368</td>\n",
              "      <td>2010-12-01 08:34:00</td>\n",
              "      <td>13047.0</td>\n",
              "      <td>70.05</td>\n",
              "    </tr>\n",
              "    <tr>\n",
              "      <th>4</th>\n",
              "      <td>536369</td>\n",
              "      <td>2010-12-01 08:35:00</td>\n",
              "      <td>13047.0</td>\n",
              "      <td>17.85</td>\n",
              "    </tr>\n",
              "  </tbody>\n",
              "</table>\n",
              "</div>"
            ],
            "text/plain": [
              "  InvoiceNo         InvoiceDate  CustomerID   Price\n",
              "0    536365 2010-12-01 08:26:00     17850.0  139.12\n",
              "1    536366 2010-12-01 08:28:00     17850.0   22.20\n",
              "2    536367 2010-12-01 08:34:00     13047.0  278.73\n",
              "3    536368 2010-12-01 08:34:00     13047.0   70.05\n",
              "4    536369 2010-12-01 08:35:00     13047.0   17.85"
            ]
          },
          "metadata": {
            "tags": []
          },
          "execution_count": 35
        }
      ]
    },
    {
      "cell_type": "code",
      "metadata": {
        "id": "8gyGo1GWmgK7"
      },
      "source": [
        "from datetime import timedelta"
      ],
      "execution_count": null,
      "outputs": []
    },
    {
      "cell_type": "code",
      "metadata": {
        "colab": {
          "base_uri": "https://localhost:8080/"
        },
        "id": "iFKMwlWail1J",
        "outputId": "557f0a2b-cbcc-4c66-e2b0-1c603b3fe9a5"
      },
      "source": [
        "#create a refdate to calculate the Recency score\n",
        "\n",
        "refdate = new_df['InvoiceDate'].max() + timedelta(days=1)\n",
        "refdate"
      ],
      "execution_count": null,
      "outputs": [
        {
          "output_type": "execute_result",
          "data": {
            "text/plain": [
              "Timestamp('2011-12-10 12:50:00')"
            ]
          },
          "metadata": {
            "tags": []
          },
          "execution_count": 37
        }
      ]
    },
    {
      "cell_type": "code",
      "metadata": {
        "id": "BD2amXA6mk01"
      },
      "source": [
        "#to study the data over a period of one year\n",
        "period = 365"
      ],
      "execution_count": null,
      "outputs": []
    },
    {
      "cell_type": "code",
      "metadata": {
        "id": "nBOFRfTenq3B"
      },
      "source": [
        "#to calculate recency: add a column with the number of days between the purchase and refdate\n",
        "\n",
        "new_df['daysincelastorder']= new_df['InvoiceDate'].apply(lambda x: (refdate - x).days)"
      ],
      "execution_count": null,
      "outputs": []
    },
    {
      "cell_type": "code",
      "metadata": {
        "colab": {
          "base_uri": "https://localhost:8080/",
          "height": 204
        },
        "id": "0kfrnNcnovvm",
        "outputId": "784aab0b-a5af-4fda-982e-a511eda4313f"
      },
      "source": [
        "#creating dataframe for receny (number of days since last order) and frequency (total number of orders in last period)\n",
        "\n",
        "aggr = {'daysincelastorder': lambda x:x.min(), \n",
        "        'InvoiceDate' : lambda x:len([d for d in x if d>= refdate - timedelta(days=period)])}\n",
        "\n",
        "rfm = new_df.groupby('CustomerID').agg(aggr).reset_index()\n",
        "rfm.rename(columns={'daysincelastorder':'Recency', 'InvoiceDate':'Frequency'}, inplace=True)\n",
        "rfm.head()"
      ],
      "execution_count": null,
      "outputs": [
        {
          "output_type": "execute_result",
          "data": {
            "text/html": [
              "<div>\n",
              "<style scoped>\n",
              "    .dataframe tbody tr th:only-of-type {\n",
              "        vertical-align: middle;\n",
              "    }\n",
              "\n",
              "    .dataframe tbody tr th {\n",
              "        vertical-align: top;\n",
              "    }\n",
              "\n",
              "    .dataframe thead th {\n",
              "        text-align: right;\n",
              "    }\n",
              "</style>\n",
              "<table border=\"1\" class=\"dataframe\">\n",
              "  <thead>\n",
              "    <tr style=\"text-align: right;\">\n",
              "      <th></th>\n",
              "      <th>CustomerID</th>\n",
              "      <th>Recency</th>\n",
              "      <th>Frequency</th>\n",
              "    </tr>\n",
              "  </thead>\n",
              "  <tbody>\n",
              "    <tr>\n",
              "      <th>0</th>\n",
              "      <td>12346.0</td>\n",
              "      <td>326</td>\n",
              "      <td>2</td>\n",
              "    </tr>\n",
              "    <tr>\n",
              "      <th>1</th>\n",
              "      <td>12347.0</td>\n",
              "      <td>2</td>\n",
              "      <td>6</td>\n",
              "    </tr>\n",
              "    <tr>\n",
              "      <th>2</th>\n",
              "      <td>12348.0</td>\n",
              "      <td>75</td>\n",
              "      <td>4</td>\n",
              "    </tr>\n",
              "    <tr>\n",
              "      <th>3</th>\n",
              "      <td>12349.0</td>\n",
              "      <td>19</td>\n",
              "      <td>1</td>\n",
              "    </tr>\n",
              "    <tr>\n",
              "      <th>4</th>\n",
              "      <td>12350.0</td>\n",
              "      <td>310</td>\n",
              "      <td>1</td>\n",
              "    </tr>\n",
              "  </tbody>\n",
              "</table>\n",
              "</div>"
            ],
            "text/plain": [
              "   CustomerID  Recency  Frequency\n",
              "0     12346.0      326          2\n",
              "1     12347.0        2          6\n",
              "2     12348.0       75          4\n",
              "3     12349.0       19          1\n",
              "4     12350.0      310          1"
            ]
          },
          "metadata": {
            "tags": []
          },
          "execution_count": 40
        }
      ]
    },
    {
      "cell_type": "code",
      "metadata": {
        "colab": {
          "base_uri": "https://localhost:8080/",
          "height": 204
        },
        "id": "cZeOi74yq_G3",
        "outputId": "d6571a89-1e97-4cf4-f1db-8a7c29364f4b"
      },
      "source": [
        "#add the Monetary value of each customer by adding sales over the last year\n",
        "\n",
        "rfm['Monetary']=rfm['CustomerID'].apply(lambda x:new_df[(new_df['CustomerID']==x) & (new_df['InvoiceDate'] >= refdate - timedelta(days=period))]['Price'].sum())\n",
        "rfm.head()"
      ],
      "execution_count": null,
      "outputs": [
        {
          "output_type": "execute_result",
          "data": {
            "text/html": [
              "<div>\n",
              "<style scoped>\n",
              "    .dataframe tbody tr th:only-of-type {\n",
              "        vertical-align: middle;\n",
              "    }\n",
              "\n",
              "    .dataframe tbody tr th {\n",
              "        vertical-align: top;\n",
              "    }\n",
              "\n",
              "    .dataframe thead th {\n",
              "        text-align: right;\n",
              "    }\n",
              "</style>\n",
              "<table border=\"1\" class=\"dataframe\">\n",
              "  <thead>\n",
              "    <tr style=\"text-align: right;\">\n",
              "      <th></th>\n",
              "      <th>CustomerID</th>\n",
              "      <th>Recency</th>\n",
              "      <th>Frequency</th>\n",
              "      <th>Monetary</th>\n",
              "    </tr>\n",
              "  </thead>\n",
              "  <tbody>\n",
              "    <tr>\n",
              "      <th>0</th>\n",
              "      <td>12346.0</td>\n",
              "      <td>326</td>\n",
              "      <td>2</td>\n",
              "      <td>0.00</td>\n",
              "    </tr>\n",
              "    <tr>\n",
              "      <th>1</th>\n",
              "      <td>12347.0</td>\n",
              "      <td>2</td>\n",
              "      <td>6</td>\n",
              "      <td>3598.21</td>\n",
              "    </tr>\n",
              "    <tr>\n",
              "      <th>2</th>\n",
              "      <td>12348.0</td>\n",
              "      <td>75</td>\n",
              "      <td>4</td>\n",
              "      <td>1797.24</td>\n",
              "    </tr>\n",
              "    <tr>\n",
              "      <th>3</th>\n",
              "      <td>12349.0</td>\n",
              "      <td>19</td>\n",
              "      <td>1</td>\n",
              "      <td>1757.55</td>\n",
              "    </tr>\n",
              "    <tr>\n",
              "      <th>4</th>\n",
              "      <td>12350.0</td>\n",
              "      <td>310</td>\n",
              "      <td>1</td>\n",
              "      <td>334.40</td>\n",
              "    </tr>\n",
              "  </tbody>\n",
              "</table>\n",
              "</div>"
            ],
            "text/plain": [
              "   CustomerID  Recency  Frequency  Monetary\n",
              "0     12346.0      326          2      0.00\n",
              "1     12347.0        2          6   3598.21\n",
              "2     12348.0       75          4   1797.24\n",
              "3     12349.0       19          1   1757.55\n",
              "4     12350.0      310          1    334.40"
            ]
          },
          "metadata": {
            "tags": []
          },
          "execution_count": 41
        }
      ]
    },
    {
      "cell_type": "code",
      "metadata": {
        "colab": {
          "base_uri": "https://localhost:8080/"
        },
        "id": "eKH-fy_3sNDF",
        "outputId": "135b5257-de4c-4c6d-ba39-d6fb899ecba4"
      },
      "source": [
        "#finding quintiles for each parameter\n",
        "\n",
        "quintiles = rfm[['Recency','Frequency','Monetary']].quantile([.2,.4,.6,.8]).to_dict()\n",
        "quintiles"
      ],
      "execution_count": null,
      "outputs": [
        {
          "output_type": "execute_result",
          "data": {
            "text/plain": [
              "{'Frequency': {0.2: 1.0, 0.4: 2.0, 0.6: 3.0, 0.8: 6.0},\n",
              " 'Monetary': {0.2: 214.45600000000002,\n",
              "  0.4: 439.26200000000006,\n",
              "  0.6: 869.3879999999999,\n",
              "  0.8: 1897.4440000000002},\n",
              " 'Recency': {0.2: 11.0, 0.4: 32.0, 0.6: 71.0, 0.8: 178.80000000000018}}"
            ]
          },
          "metadata": {
            "tags": []
          },
          "execution_count": 42
        }
      ]
    },
    {
      "cell_type": "code",
      "metadata": {
        "id": "nPr3srjh1JpE"
      },
      "source": [
        "#assign rank from 1 to 5. A smaller Recency value is better whereas higher Frequency and Monetary values are better\n",
        "\n",
        "def r_score(x):\n",
        "  if x <= quintiles['Recency'][.2]:\n",
        "    return 5\n",
        "  elif x <= quintiles['Recency'][.4]:\n",
        "    return 4\n",
        "  elif x <= quintiles['Recency'][.6]:\n",
        "    return 3\n",
        "  elif x <= quintiles['Recency'][.8]:\n",
        "    return 2\n",
        "  else:\n",
        "    return 1\n",
        "\n"
      ],
      "execution_count": null,
      "outputs": []
    },
    {
      "cell_type": "code",
      "metadata": {
        "id": "dVHbR-Ir2gmf"
      },
      "source": [
        "def fm_score(x,c):\n",
        "  if x <= quintiles[c][.2]:\n",
        "    return 1\n",
        "  elif x <= quintiles[c][.4]:\n",
        "    return 2\n",
        "  elif x <= quintiles[c][.6]:\n",
        "    return 3\n",
        "  elif x <= quintiles[c][.8]:\n",
        "    return 4\n",
        "  else:\n",
        "    return 5"
      ],
      "execution_count": null,
      "outputs": []
    },
    {
      "cell_type": "code",
      "metadata": {
        "id": "EkWsnA6u2z6u"
      },
      "source": [
        "#calculate R, F and M score\n",
        "\n",
        "rfm['R']=rfm['Recency'].apply(lambda x: r_score(x))\n",
        "rfm['F']=rfm['Frequency'].apply(lambda x: fm_score(x, 'Frequency'))\n",
        "rfm['M']=rfm['Monetary'].apply(lambda x: fm_score(x, 'Monetary'))"
      ],
      "execution_count": null,
      "outputs": []
    },
    {
      "cell_type": "code",
      "metadata": {
        "colab": {
          "base_uri": "https://localhost:8080/",
          "height": 204
        },
        "id": "PZi7aC2D3ppt",
        "outputId": "50d927b5-0e7d-4ef1-fa4f-0e40b1fa4a48"
      },
      "source": [
        "#combine RFM score\n",
        "rfm['RFM Score'] = rfm['R'].map(str) + rfm['F'].map(str) + rfm['M'].map(str)\n",
        "rfm.head()"
      ],
      "execution_count": null,
      "outputs": [
        {
          "output_type": "execute_result",
          "data": {
            "text/html": [
              "<div>\n",
              "<style scoped>\n",
              "    .dataframe tbody tr th:only-of-type {\n",
              "        vertical-align: middle;\n",
              "    }\n",
              "\n",
              "    .dataframe tbody tr th {\n",
              "        vertical-align: top;\n",
              "    }\n",
              "\n",
              "    .dataframe thead th {\n",
              "        text-align: right;\n",
              "    }\n",
              "</style>\n",
              "<table border=\"1\" class=\"dataframe\">\n",
              "  <thead>\n",
              "    <tr style=\"text-align: right;\">\n",
              "      <th></th>\n",
              "      <th>CustomerID</th>\n",
              "      <th>Recency</th>\n",
              "      <th>Frequency</th>\n",
              "      <th>Monetary</th>\n",
              "      <th>R</th>\n",
              "      <th>F</th>\n",
              "      <th>M</th>\n",
              "      <th>RFM Score</th>\n",
              "    </tr>\n",
              "  </thead>\n",
              "  <tbody>\n",
              "    <tr>\n",
              "      <th>0</th>\n",
              "      <td>12346.0</td>\n",
              "      <td>326</td>\n",
              "      <td>2</td>\n",
              "      <td>0.00</td>\n",
              "      <td>1</td>\n",
              "      <td>2</td>\n",
              "      <td>1</td>\n",
              "      <td>121</td>\n",
              "    </tr>\n",
              "    <tr>\n",
              "      <th>1</th>\n",
              "      <td>12347.0</td>\n",
              "      <td>2</td>\n",
              "      <td>6</td>\n",
              "      <td>3598.21</td>\n",
              "      <td>5</td>\n",
              "      <td>4</td>\n",
              "      <td>5</td>\n",
              "      <td>545</td>\n",
              "    </tr>\n",
              "    <tr>\n",
              "      <th>2</th>\n",
              "      <td>12348.0</td>\n",
              "      <td>75</td>\n",
              "      <td>4</td>\n",
              "      <td>1797.24</td>\n",
              "      <td>2</td>\n",
              "      <td>4</td>\n",
              "      <td>4</td>\n",
              "      <td>244</td>\n",
              "    </tr>\n",
              "    <tr>\n",
              "      <th>3</th>\n",
              "      <td>12349.0</td>\n",
              "      <td>19</td>\n",
              "      <td>1</td>\n",
              "      <td>1757.55</td>\n",
              "      <td>4</td>\n",
              "      <td>1</td>\n",
              "      <td>4</td>\n",
              "      <td>414</td>\n",
              "    </tr>\n",
              "    <tr>\n",
              "      <th>4</th>\n",
              "      <td>12350.0</td>\n",
              "      <td>310</td>\n",
              "      <td>1</td>\n",
              "      <td>334.40</td>\n",
              "      <td>1</td>\n",
              "      <td>1</td>\n",
              "      <td>2</td>\n",
              "      <td>112</td>\n",
              "    </tr>\n",
              "  </tbody>\n",
              "</table>\n",
              "</div>"
            ],
            "text/plain": [
              "   CustomerID  Recency  Frequency  Monetary  R  F  M RFM Score\n",
              "0     12346.0      326          2      0.00  1  2  1       121\n",
              "1     12347.0        2          6   3598.21  5  4  5       545\n",
              "2     12348.0       75          4   1797.24  2  4  4       244\n",
              "3     12349.0       19          1   1757.55  4  1  4       414\n",
              "4     12350.0      310          1    334.40  1  1  2       112"
            ]
          },
          "metadata": {
            "tags": []
          },
          "execution_count": 46
        }
      ]
    },
    {
      "cell_type": "markdown",
      "metadata": {
        "id": "Zq8me9X4tbju"
      },
      "source": [
        "RFM score give us 125 segmennts which is not east to deal. We divide them into 10 segmensts based on R and F score."
      ]
    },
    {
      "cell_type": "markdown",
      "metadata": {
        "id": "iXgxpFzMunXt"
      },
      "source": [
        "**Segment\t:                           Description**\n",
        "\n",
        "\n",
        "---\n",
        "\n",
        "\n",
        "1. Trusted   \t  :                   Bought recently, buy often and spend the most\n",
        "\n",
        "2. Loyal Customers\t  :             Buy on a regular basis. Responsive to promotions.\n",
        "\n",
        "3. Potential Loyalist\t    :         Recent customers with average frequency.\n",
        "\n",
        "4. Recent Customers     :         \tBought most recently, but not often.\n",
        "\n",
        "5. Promising\t     :                Recent shoppers, but haven’t spent much.\n",
        "\n",
        "6. Customers Needing Attention  : \tAbove average recency, frequency and monetary values. May not have bought very recently though.\n",
        "\n",
        "7. About To Sleep\t    :             Below average recency and frequency. Will lose them if not reactivated.\n",
        "\n",
        "8. At Risk\t     :                  Purchased often but a long time ago. Need to bring them back!\n",
        "\n",
        "9. Can’t Lose Them\t  :             Used to purchase frequently but haven’t returned for a long time.\n",
        "\n",
        "10. Hibernating\t :                Last purchase was long back and low number of orders. May be lost."
      ]
    },
    {
      "cell_type": "code",
      "metadata": {
        "colab": {
          "base_uri": "https://localhost:8080/",
          "height": 204
        },
        "id": "z5H9uXQa4H-4",
        "outputId": "eaaeac30-6b70-4d66-fe3f-0a66e9ec8b78"
      },
      "source": [
        "segmentation = {\n",
        "    r'[1-2][1-2]': 'hibernating',\n",
        "    r'[1-2][3-4]': 'at risk',\n",
        "    r'[1-2]5': \"can't loose\",\n",
        "    r'3[1-2]': 'about to sleep',\n",
        "    r'33': 'need attention',\n",
        "    r'[3-4][4-5]': 'loyal customers',\n",
        "    r'41': 'promising',\n",
        "    r'51': 'new customers',\n",
        "    r'[4-5][2-3]': 'potential loyalists',\n",
        "    r'5[4-5]': 'Trusted',\n",
        "}\n",
        "\n",
        "rfm['Segment']=rfm['R'].map(str) + rfm['F'].map(str)\n",
        "rfm['Segment']=rfm['Segment'].replace(segmentation, regex=True)\n",
        "rfm.head()"
      ],
      "execution_count": null,
      "outputs": [
        {
          "output_type": "execute_result",
          "data": {
            "text/html": [
              "<div>\n",
              "<style scoped>\n",
              "    .dataframe tbody tr th:only-of-type {\n",
              "        vertical-align: middle;\n",
              "    }\n",
              "\n",
              "    .dataframe tbody tr th {\n",
              "        vertical-align: top;\n",
              "    }\n",
              "\n",
              "    .dataframe thead th {\n",
              "        text-align: right;\n",
              "    }\n",
              "</style>\n",
              "<table border=\"1\" class=\"dataframe\">\n",
              "  <thead>\n",
              "    <tr style=\"text-align: right;\">\n",
              "      <th></th>\n",
              "      <th>CustomerID</th>\n",
              "      <th>Recency</th>\n",
              "      <th>Frequency</th>\n",
              "      <th>Monetary</th>\n",
              "      <th>R</th>\n",
              "      <th>F</th>\n",
              "      <th>M</th>\n",
              "      <th>RFM Score</th>\n",
              "      <th>Segment</th>\n",
              "    </tr>\n",
              "  </thead>\n",
              "  <tbody>\n",
              "    <tr>\n",
              "      <th>0</th>\n",
              "      <td>12346.0</td>\n",
              "      <td>326</td>\n",
              "      <td>2</td>\n",
              "      <td>0.00</td>\n",
              "      <td>1</td>\n",
              "      <td>2</td>\n",
              "      <td>1</td>\n",
              "      <td>121</td>\n",
              "      <td>hibernating</td>\n",
              "    </tr>\n",
              "    <tr>\n",
              "      <th>1</th>\n",
              "      <td>12347.0</td>\n",
              "      <td>2</td>\n",
              "      <td>6</td>\n",
              "      <td>3598.21</td>\n",
              "      <td>5</td>\n",
              "      <td>4</td>\n",
              "      <td>5</td>\n",
              "      <td>545</td>\n",
              "      <td>Trusted</td>\n",
              "    </tr>\n",
              "    <tr>\n",
              "      <th>2</th>\n",
              "      <td>12348.0</td>\n",
              "      <td>75</td>\n",
              "      <td>4</td>\n",
              "      <td>1797.24</td>\n",
              "      <td>2</td>\n",
              "      <td>4</td>\n",
              "      <td>4</td>\n",
              "      <td>244</td>\n",
              "      <td>at risk</td>\n",
              "    </tr>\n",
              "    <tr>\n",
              "      <th>3</th>\n",
              "      <td>12349.0</td>\n",
              "      <td>19</td>\n",
              "      <td>1</td>\n",
              "      <td>1757.55</td>\n",
              "      <td>4</td>\n",
              "      <td>1</td>\n",
              "      <td>4</td>\n",
              "      <td>414</td>\n",
              "      <td>promising</td>\n",
              "    </tr>\n",
              "    <tr>\n",
              "      <th>4</th>\n",
              "      <td>12350.0</td>\n",
              "      <td>310</td>\n",
              "      <td>1</td>\n",
              "      <td>334.40</td>\n",
              "      <td>1</td>\n",
              "      <td>1</td>\n",
              "      <td>2</td>\n",
              "      <td>112</td>\n",
              "      <td>hibernating</td>\n",
              "    </tr>\n",
              "  </tbody>\n",
              "</table>\n",
              "</div>"
            ],
            "text/plain": [
              "   CustomerID  Recency  Frequency  Monetary  R  F  M RFM Score      Segment\n",
              "0     12346.0      326          2      0.00  1  2  1       121  hibernating\n",
              "1     12347.0        2          6   3598.21  5  4  5       545      Trusted\n",
              "2     12348.0       75          4   1797.24  2  4  4       244      at risk\n",
              "3     12349.0       19          1   1757.55  4  1  4       414    promising\n",
              "4     12350.0      310          1    334.40  1  1  2       112  hibernating"
            ]
          },
          "metadata": {
            "tags": []
          },
          "execution_count": 47
        }
      ]
    },
    {
      "cell_type": "code",
      "metadata": {
        "colab": {
          "base_uri": "https://localhost:8080/",
          "height": 248
        },
        "id": "jK-c_ZQY1LDQ",
        "outputId": "d7ef481b-6293-4a06-d690-a7bf0f8d9b09"
      },
      "source": [
        "# count of number of customers in each segment\n",
        "\n",
        "seg_counts = rfm['Segment'].value_counts().sort_values(ascending=True)\n",
        "\n",
        "fig, ax = plt.subplots()\n",
        "\n",
        "bars = ax.barh(range(len(seg_counts)), seg_counts, color='grey')\n",
        "ax.set_frame_on(False)\n",
        "ax.tick_params(left=False, bottom=False, labelbottom=False)\n",
        "ax.set_yticks(range(len(seg_counts)))\n",
        "ax.set_yticklabels(seg_counts.index)\n",
        "\n",
        "for i, bar in enumerate(bars):\n",
        "  value = bar.get_width()\n",
        "  if seg_counts.index[i] in ['Trusted','loyal customers']:\n",
        "    bar.set_color('red')\n",
        "  ax.text(value,\n",
        "          bar.get_y() + bar.get_height()/2,\n",
        "          '{:,}({:}%)'.format(int(value),\n",
        "                              int(value*100/seg_counts.sum())),\n",
        "          va='center',\n",
        "          ha='left'\n",
        "          )\n",
        "  \n",
        "plt.show()"
      ],
      "execution_count": null,
      "outputs": [
        {
          "output_type": "display_data",
          "data": {
            "image/png": "[encoded data removed]",
            "text/plain": [
              "<Figure size 432x288 with 1 Axes>"
            ]
          },
          "metadata": {
            "tags": [],
            "needs_background": "light"
          }
        }
      ]
    },
    {
      "cell_type": "markdown",
      "metadata": {
        "id": "3fhxBIHS7B2x"
      },
      "source": [
        "**Project Task: 3**\n",
        "\n",
        "**Data Modeling :**\n",
        "\n",
        "\n",
        "1. Create clusters using k-means clustering algorithm.\n",
        "\n",
        "a. Prepare the data for the algorithm. If the data is asymmetrically distributed, manage the skewness with appropriate transformation. Standardize the data.\n",
        "\n",
        "b. Decide the optimum number of clusters to be formed.\n",
        "\n",
        "c. Analyze these clusters and comment on the results."
      ]
    },
    {
      "cell_type": "code",
      "metadata": {
        "colab": {
          "base_uri": "https://localhost:8080/",
          "height": 418
        },
        "id": "i_EID99W63mj",
        "outputId": "34342874-a65b-4aaa-9b92-271a47a9338f"
      },
      "source": [
        "cluster = rfm\n",
        "cluster = cluster.reset_index(level=0).iloc[:,[3,4]].values\n",
        "\n",
        "pd.DataFrame(cluster)"
      ],
      "execution_count": null,
      "outputs": [
        {
          "output_type": "execute_result",
          "data": {
            "text/html": [
              "<div>\n",
              "<style scoped>\n",
              "    .dataframe tbody tr th:only-of-type {\n",
              "        vertical-align: middle;\n",
              "    }\n",
              "\n",
              "    .dataframe tbody tr th {\n",
              "        vertical-align: top;\n",
              "    }\n",
              "\n",
              "    .dataframe thead th {\n",
              "        text-align: right;\n",
              "    }\n",
              "</style>\n",
              "<table border=\"1\" class=\"dataframe\">\n",
              "  <thead>\n",
              "    <tr style=\"text-align: right;\">\n",
              "      <th></th>\n",
              "      <th>0</th>\n",
              "      <th>1</th>\n",
              "    </tr>\n",
              "  </thead>\n",
              "  <tbody>\n",
              "    <tr>\n",
              "      <th>0</th>\n",
              "      <td>2.0</td>\n",
              "      <td>0.00</td>\n",
              "    </tr>\n",
              "    <tr>\n",
              "      <th>1</th>\n",
              "      <td>6.0</td>\n",
              "      <td>3598.21</td>\n",
              "    </tr>\n",
              "    <tr>\n",
              "      <th>2</th>\n",
              "      <td>4.0</td>\n",
              "      <td>1797.24</td>\n",
              "    </tr>\n",
              "    <tr>\n",
              "      <th>3</th>\n",
              "      <td>1.0</td>\n",
              "      <td>1757.55</td>\n",
              "    </tr>\n",
              "    <tr>\n",
              "      <th>4</th>\n",
              "      <td>1.0</td>\n",
              "      <td>334.40</td>\n",
              "    </tr>\n",
              "    <tr>\n",
              "      <th>...</th>\n",
              "      <td>...</td>\n",
              "      <td>...</td>\n",
              "    </tr>\n",
              "    <tr>\n",
              "      <th>4367</th>\n",
              "      <td>1.0</td>\n",
              "      <td>180.60</td>\n",
              "    </tr>\n",
              "    <tr>\n",
              "      <th>4368</th>\n",
              "      <td>1.0</td>\n",
              "      <td>80.82</td>\n",
              "    </tr>\n",
              "    <tr>\n",
              "      <th>4369</th>\n",
              "      <td>3.0</td>\n",
              "      <td>176.60</td>\n",
              "    </tr>\n",
              "    <tr>\n",
              "      <th>4370</th>\n",
              "      <td>16.0</td>\n",
              "      <td>2045.53</td>\n",
              "    </tr>\n",
              "    <tr>\n",
              "      <th>4371</th>\n",
              "      <td>3.0</td>\n",
              "      <td>1837.28</td>\n",
              "    </tr>\n",
              "  </tbody>\n",
              "</table>\n",
              "<p>4372 rows × 2 columns</p>\n",
              "</div>"
            ],
            "text/plain": [
              "         0        1\n",
              "0      2.0     0.00\n",
              "1      6.0  3598.21\n",
              "2      4.0  1797.24\n",
              "3      1.0  1757.55\n",
              "4      1.0   334.40\n",
              "...    ...      ...\n",
              "4367   1.0   180.60\n",
              "4368   1.0    80.82\n",
              "4369   3.0   176.60\n",
              "4370  16.0  2045.53\n",
              "4371   3.0  1837.28\n",
              "\n",
              "[4372 rows x 2 columns]"
            ]
          },
          "metadata": {
            "tags": []
          },
          "execution_count": 62
        }
      ]
    },
    {
      "cell_type": "code",
      "metadata": {
        "id": "1V8RK-w-KvMS"
      },
      "source": [
        "from sklearn.preprocessing import StandardScaler"
      ],
      "execution_count": null,
      "outputs": []
    },
    {
      "cell_type": "code",
      "metadata": {
        "id": "7QAmbJQnLGKH"
      },
      "source": [
        "sc = StandardScaler()\n",
        "cluster = sc.fit_transform(cluster)"
      ],
      "execution_count": null,
      "outputs": []
    },
    {
      "cell_type": "code",
      "metadata": {
        "colab": {
          "base_uri": "https://localhost:8080/",
          "height": 295
        },
        "id": "ML5HkeoyLRNn",
        "outputId": "ebfed343-6ce0-4b5d-b236-26e1feccc563"
      },
      "source": [
        "from sklearn.cluster import KMeans\n",
        "wcss= []\n",
        "\n",
        "for i in range(1,11):\n",
        "  kmeans = KMeans(n_clusters = i , init = 'k-means++')\n",
        "  kmeans.fit(cluster)\n",
        "  wcss.append(kmeans.inertia_)\n",
        "plt.plot(range(1,11), wcss)\n",
        "plt.title('The Elbow Method')\n",
        "plt.xlabel('Number of clusters')\n",
        "plt.ylabel('WCSS')\n",
        "plt.show()"
      ],
      "execution_count": null,
      "outputs": [
        {
          "output_type": "display_data",
          "data": {
            "image/png": "[encoded data removed]",
            "text/plain": [
              "<Figure size 432x288 with 1 Axes>"
            ]
          },
          "metadata": {
            "tags": [],
            "needs_background": "light"
          }
        }
      ]
    },
    {
      "cell_type": "markdown",
      "metadata": {
        "id": "kdNIY0ZxNF1g"
      },
      "source": [
        "Optimum number of clusters to be formed is 4"
      ]
    },
    {
      "cell_type": "code",
      "metadata": {
        "colab": {
          "base_uri": "https://localhost:8080/",
          "height": 295
        },
        "id": "Ma3wOqZvMZNQ",
        "outputId": "7ca23dc6-b1c3-4741-f097-0d79ed857317"
      },
      "source": [
        "kmeans = KMeans(n_clusters=4, init='k-means++')\n",
        "y_kmeans = kmeans.fit_predict(cluster)\n",
        "\n",
        "plt.scatter(cluster[y_kmeans == 0, 0], cluster[y_kmeans == 0, 1], s = 5, c = 'red', label = 'Lost Customer')\n",
        "plt.scatter(cluster[y_kmeans == 1, 0], cluster[y_kmeans == 1, 1], s = 5, c = 'blue', label = 'Loyal customer')\n",
        "plt.scatter(cluster[y_kmeans == 2, 0], cluster[y_kmeans == 2, 1], s = 5, c = 'green', label = 'Average Customers')\n",
        "plt.scatter(cluster[y_kmeans == 3, 0], cluster[y_kmeans == 3, 1], s = 5, c = 'cyan', label = 'Bought frequently but Spend less')\n",
        "plt.scatter(kmeans.cluster_centers_[:, 0], kmeans.cluster_centers_[:, 1], s = 20, c = 'yellow', label = 'Centroids')\n",
        "plt.title('Clusters of customers')\n",
        "plt.xlabel('Total Spending')\n",
        "plt.ylabel('Buying Frequency')\n",
        "plt.legend()\n",
        "plt.show()"
      ],
      "execution_count": null,
      "outputs": [
        {
          "output_type": "display_data",
          "data": {
            "image/png": "[encoded data removed]",
            "text/plain": [
              "<Figure size 432x288 with 1 Axes>"
            ]
          },
          "metadata": {
            "tags": [],
            "needs_background": "light"
          }
        }
      ]
    },
    {
      "cell_type": "markdown",
      "metadata": {
        "id": "cTfkxngROyKh"
      },
      "source": [
        "**Project Task: 4**\n",
        "\n",
        "**Data Reporting:**\n",
        "\n",
        "1. Create a dashboard in tableau by choosing appropriate chart types and metrics useful for the business. The dashboard must entail the following:\n",
        "\n",
        "a. Country-wise analysis to demonstrate average spend. Use a bar chart to show the monthly figures\n",
        "\n",
        "b. Bar graph of top 15 products which are mostly ordered by the users to show the number of products sold\n",
        "\n",
        "c. Bar graph to show the count of orders vs. hours throughout the day\n",
        "\n",
        "d. Plot the distribution of RFM values using histogram and frequency charts\n",
        "\n",
        "e. Plot error (cost) vs. number of clusters selected\n",
        "\n",
        "f. Visualize to compare the RFM values of the clusters using heatmap"
      ]
    },
    {
      "cell_type": "markdown",
      "metadata": {
        "id": "SDrJYZiiO-YN"
      },
      "source": [
        "![Customer Segmentation.png](data:image/png;base64,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)"
      ]
    },
    {
      "cell_type": "code",
      "metadata": {
        "id": "cprXROeF73G9"
      },
      "source": [
        ""
      ],
      "execution_count": null,
      "outputs": []
    }
  ]
}